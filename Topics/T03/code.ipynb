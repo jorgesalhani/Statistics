{
 "cells": [
  {
   "cell_type": "code",
   "execution_count": 61,
   "metadata": {},
   "outputs": [],
   "source": [
    "from scipy import integrate\n",
    "from scipy.stats import norm\n",
    "import numpy as np"
   ]
  },
  {
   "cell_type": "markdown",
   "metadata": {},
   "source": [
    "# Lista 3"
   ]
  },
  {
   "cell_type": "markdown",
   "metadata": {},
   "source": [
    "### UTILS"
   ]
  },
  {
   "cell_type": "code",
   "execution_count": 123,
   "metadata": {},
   "outputs": [],
   "source": [
    "def normalDist(x, mu, sigma, mean=False, meanSqrX=False):\n",
    "  normalFactor = 1/(sigma * np.sqrt(2 * np.pi))\n",
    "  expFactor = np.exp(-(1/2) * (((x - mu)/sigma) ** 2))\n",
    "  if mean: return x * normalFactor * expFactor\n",
    "  if meanSqrX: return (x**2) * normalFactor * expFactor\n",
    "  return normalFactor * expFactor\n",
    "\n",
    "def uniformDist(x, a, b, mean=False, meanSqrX=False):\n",
    "  if (a <= x and x <= b):\n",
    "    if mean: return x/(b-a)\n",
    "    if meanSqrX: return (x**2)/(b-a)\n",
    "    return 1/(b-a)\n",
    "  return 0\n",
    "\n",
    "def exponDist(x, l, mean=False, meanSqrX=False):\n",
    "  if (x >= 0): \n",
    "    if mean: return x * (1/l) * np.exp(-(1/l) * x)\n",
    "    if meanSqrX: return (x**2) * (1/l) * np.exp(-(1/l) * x)\n",
    "    return (1/l) * np.exp(-(1/l) * x)\n",
    "  return 0\n",
    "\n",
    "def meanProbabFunction(probabFunction, args):\n",
    "  if probabFunction == 'exponDist':\n",
    "    return integrate.quad(exponDist, -np.inf, np.inf, args=(args['l'], args['mean'], args['meanSqrX']))\n",
    "  elif probabFunction == 'uniformDist':\n",
    "    return integrate.quad(uniformDist, -np.inf, np.inf, args=(args['a'], args['b'], args['mean'], args['meanSqrX']))\n",
    "  elif probabFunction == 'normalDist':\n",
    "    return integrate.quad(normalDist, -np.inf, np.inf, args=(args['mu'], args['sigma'],  args['mean'], args['meanSqrX']))\n",
    "  return False"
   ]
  },
  {
   "cell_type": "markdown",
   "metadata": {},
   "source": [
    "### Exercicio 1"
   ]
  },
  {
   "cell_type": "code",
   "execution_count": 116,
   "metadata": {},
   "outputs": [
    {
     "name": "stdout",
     "output_type": "stream",
     "text": [
      "0.3085375387259873\n",
      "0.29016878695693693\n",
      "0.22662735237686837\n"
     ]
    }
   ],
   "source": [
    "mu = 2\n",
    "sigma = 0.4\n",
    "\n",
    "Ia = integrate.quad(normalDist, -np.inf, 1.8, args=(mu,sigma))[0]\n",
    "print(Ia)\n",
    "\n",
    "Ib = integrate.quad(normalDist, 1.8, 2.1, args=(mu,sigma))[0]\n",
    "print(Ib)\n",
    "\n",
    "Ic = integrate.quad(normalDist, 2.3, np.inf, args=(mu, sigma))[0]\n",
    "print(Ic)\n"
   ]
  },
  {
   "cell_type": "markdown",
   "metadata": {},
   "source": [
    "### Exercicio 3"
   ]
  },
  {
   "cell_type": "code",
   "execution_count": 117,
   "metadata": {},
   "outputs": [
    {
     "name": "stdout",
     "output_type": "stream",
     "text": [
      "0.2865047968601901\n",
      "0.6321205588282045\n",
      "0.2824218327142438\n"
     ]
    }
   ],
   "source": [
    "l = 8\n",
    "\n",
    "Ia = integrate.quad(exponDist, 10, np.inf, args=(l))[0]\n",
    "print(Ia)\n",
    "\n",
    "Ib = integrate.quad(exponDist, -np.inf, l, args=(l))[0]\n",
    "print(Ib)\n",
    "\n",
    "Ic = integrate.quad(exponDist, 5, 11, args=(l))[0]\n",
    "print(Ic)"
   ]
  },
  {
   "cell_type": "markdown",
   "metadata": {},
   "source": [
    "### Exercicio 5"
   ]
  },
  {
   "cell_type": "code",
   "execution_count": 122,
   "metadata": {},
   "outputs": [
    {
     "name": "stdout",
     "output_type": "stream",
     "text": [
      "5.999999999999957\n",
      "0.33333333333329307\n"
     ]
    }
   ],
   "source": [
    "m = meanProbabFunction('uniformDist', args={'a':5, 'b':7, 'mean': True, 'meanSqrX':False})[0]\n",
    "print(m)\n",
    "\n",
    "Ex2 = meanProbabFunction('uniformDist', args={'a':5, 'b':7, 'mean': False, 'meanSqrX':True})[0]\n",
    "v = Ex2 - m**2\n",
    "print(v)"
   ]
  },
  {
   "cell_type": "markdown",
   "metadata": {},
   "source": [
    "### Exercicio 6"
   ]
  },
  {
   "cell_type": "code",
   "execution_count": 142,
   "metadata": {},
   "outputs": [
    {
     "name": "stdout",
     "output_type": "stream",
     "text": [
      "25.38799999998618\n"
     ]
    }
   ],
   "source": [
    "mu = 29.5\n",
    "sigma = 2.5\n",
    "\n",
    "perc = 0.05\n",
    "cum = 0\n",
    "t0 = 0.001\n",
    "dt = 0.0005\n",
    "while cum < perc:\n",
    "  I = integrate.quad(normalDist, t0, t0+dt, args=(mu, sigma))[0]\n",
    "  t0+=dt\n",
    "  cum+=I\n",
    "\n",
    "print(t0)"
   ]
  },
  {
   "cell_type": "code",
   "execution_count": 143,
   "metadata": {},
   "outputs": [
    {
     "data": {
      "image/png": "[encoded data removed]",
      "text/plain": [
       "<Figure size 640x480 with 1 Axes>"
      ]
     },
     "metadata": {},
     "output_type": "display_data"
    }
   ],
   "source": [
    "import matplotlib.pyplot as plt\n",
    "x = np.linspace(20, 40, 1000)\n",
    "plt.plot(x, normalDist(x, mu, sigma))\n",
    "plt.plot(t0, normalDist(t0, mu, sigma), 'or')\n",
    "plt.show()"
   ]
  },
  {
   "cell_type": "markdown",
   "metadata": {},
   "source": [
    "### Exercicio 8"
   ]
  },
  {
   "cell_type": "code",
   "execution_count": 144,
   "metadata": {},
   "outputs": [
    {
     "name": "stdout",
     "output_type": "stream",
     "text": [
      "0.20000000000023335\n",
      "0.1\n",
      "0.19999999999999984\n"
     ]
    }
   ],
   "source": [
    "a = 345\n",
    "b = 355\n",
    "Ia = integrate.quad(uniformDist, 353, np.inf, args=(a,b))[0]\n",
    "print(Ia)\n",
    "\n",
    "Ib = integrate.quad(uniformDist, -np.inf, 346, args=(a,b))[0]\n",
    "print(Ib)\n",
    "\n",
    "rotulo = 350\n",
    "Ic = 1 - integrate.quad(uniformDist, rotulo-4, rotulo+4, args=(a,b))[0]\n",
    "print(Ic)"
   ]
  },
  {
   "cell_type": "markdown",
   "metadata": {},
   "source": [
    "### Exercicio 9"
   ]
  },
  {
   "cell_type": "code",
   "execution_count": 147,
   "metadata": {},
   "outputs": [
    {
     "name": "stdout",
     "output_type": "stream",
     "text": [
      "0.4345982085070782\n",
      "0.48658288096740787\n"
     ]
    }
   ],
   "source": [
    "l = 12\n",
    "Ia = 1 - integrate.quad(exponDist, 0, 10, args=(l))[0]\n",
    "print(Ia)\n",
    "\n",
    "Ib = integrate.quad(exponDist, 0, 8, args=(l))[0]\n",
    "print(Ib)"
   ]
  },
  {
   "cell_type": "markdown",
   "metadata": {},
   "source": []
  }
 ],
 "metadata": {
  "kernelspec": {
   "display_name": "Python 3.10.6 64-bit",
   "language": "python",
   "name": "python3"
  },
  "language_info": {
   "codemirror_mode": {
    "name": "ipython",
    "version": 3
   },
   "file_extension": ".py",
   "mimetype": "text/x-python",
   "name": "python",
   "nbconvert_exporter": "python",
   "pygments_lexer": "ipython3",
   "version": "3.10.6"
  },
  "orig_nbformat": 4,
  "vscode": {
   "interpreter": {
    "hash": "916dbcbb3f70747c44a77c7bcd40155683ae19c65e1c03b4aa3499c5328201f1"
   }
  }
 },
 "nbformat": 4,
 "nbformat_minor": 2
}
