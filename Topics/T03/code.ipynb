{
 "cells": [
  {
   "cell_type": "code",
   "execution_count": 3,
   "metadata": {},
   "outputs": [],
   "source": [
    "from scipy import integrate\n",
    "from scipy.stats import norm\n",
    "import numpy as np"
   ]
  },
  {
   "cell_type": "markdown",
   "metadata": {},
   "source": [
    "### UTILS"
   ]
  },
  {
   "cell_type": "code",
   "execution_count": 5,
   "metadata": {},
   "outputs": [],
   "source": [
    "def normalDist(x, mu, sigma, mean=False, meanSqrX=False):\n",
    "  normalFactor = 1/(sigma * np.sqrt(2 * np.pi))\n",
    "  expFactor = np.exp(-(1/2) * (((x - mu)/sigma) ** 2))\n",
    "  if mean: return x * normalFactor * expFactor\n",
    "  if meanSqrX: return (x**2) * normalFactor * expFactor\n",
    "  return normalFactor * expFactor\n",
    "\n",
    "def uniformDist(x, a, b, mean=False, meanSqrX=False):\n",
    "  if (a <= x and x <= b):\n",
    "    if mean: return x/(b-a)\n",
    "    if meanSqrX: return (x**2)/(b-a)\n",
    "    return 1/(b-a)\n",
    "  return 0\n",
    "\n",
    "def exponDist(x, l, mean=False, meanSqrX=False):\n",
    "  if (x >= 0): \n",
    "    if mean: return x * (1/l) * np.exp(-(1/l) * x)\n",
    "    if meanSqrX: return (x**2) * (1/l) * np.exp(-(1/l) * x)\n",
    "    return (1/l) * np.exp(-(1/l) * x)\n",
    "  return 0\n",
    "\n",
    "def meanProbabFunction(probabFunction, args):\n",
    "  if probabFunction == 'exponDist':\n",
    "    return integrate.quad(exponDist, -np.inf, np.inf, args=(args['l'], args['mean'], args['meanSqrX']))\n",
    "  elif probabFunction == 'uniformDist':\n",
    "    return integrate.quad(uniformDist, -np.inf, np.inf, args=(args['a'], args['b'], args['mean'], args['meanSqrX']))\n",
    "  elif probabFunction == 'normalDist':\n",
    "    return integrate.quad(normalDist, -np.inf, np.inf, args=(args['mu'], args['sigma'],  args['mean'], args['meanSqrX']))\n",
    "  return False\n",
    "\n",
    "def expectedValue(xPx):\n",
    "  return np.sum([xPx[i][0] * xPx[i][1] for i in range(len(xPx))])"
   ]
  },
  {
   "cell_type": "markdown",
   "metadata": {},
   "source": [
    "# Simulado "
   ]
  },
  {
   "cell_type": "code",
   "execution_count": 7,
   "metadata": {},
   "outputs": [
    {
     "name": "stdout",
     "output_type": "stream",
     "text": [
      "0.3678794411714413\n",
      "529.0000000000001\n"
     ]
    }
   ],
   "source": [
    "l = 23\n",
    "Ia = integrate.quad(exponDist, l, np.inf, args=(l))[0]\n",
    "print(Ia)\n",
    "\n",
    "m = meanProbabFunction('exponDist', args={'l':l, 'mean':True, 'meanSqrX':False})[0]\n",
    "m2 = meanProbabFunction('exponDist', args={'l':l, 'mean':False,'meanSqrX':True})[0]\n",
    "v = m2 - m**2\n",
    "print(v)"
   ]
  },
  {
   "cell_type": "code",
   "execution_count": 8,
   "metadata": {},
   "outputs": [
    {
     "name": "stdout",
     "output_type": "stream",
     "text": [
      "0.0\n"
     ]
    }
   ],
   "source": [
    "# cov(a,b) = E[ab] - E[a]E[b]\n",
    "\n",
    "xPx = [\n",
    "    (-1,0.2),\n",
    "    (0,0.6),\n",
    "    (1,0.2)\n",
    "]\n",
    "\n",
    "yPy = [\n",
    "    (-1,0.2),\n",
    "    (0,0.6),\n",
    "    (1,0.2)\n",
    "]\n",
    "\n",
    "xyPxy = [\n",
    "    (0, 1),\n",
    "    (0, 0.2),\n",
    "    (-1, 0),\n",
    "    (0, 0.2),\n",
    "    (0, 0.2),\n",
    "    (0, 0.2),\n",
    "    (-1, 0),\n",
    "    (0, 0.2),\n",
    "    (1, 0),\n",
    "]\n",
    "\n",
    "Ex = expectedValue(xPx)\n",
    "Ey = expectedValue(yPy)\n",
    "Exy = expectedValue(xyPxy)\n",
    "covXY = Exy - Ex*Ey\n",
    "print(covXY) "
   ]
  },
  {
   "cell_type": "markdown",
   "metadata": {},
   "source": [
    "# Lista 3"
   ]
  },
  {
   "cell_type": "markdown",
   "metadata": {},
   "source": [
    "### Exercicio 1"
   ]
  },
  {
   "cell_type": "code",
   "execution_count": 116,
   "metadata": {},
   "outputs": [
    {
     "name": "stdout",
     "output_type": "stream",
     "text": [
      "0.3085375387259873\n",
      "0.29016878695693693\n",
      "0.22662735237686837\n"
     ]
    }
   ],
   "source": [
    "mu = 2\n",
    "sigma = 0.4\n",
    "\n",
    "Ia = integrate.quad(normalDist, -np.inf, 1.8, args=(mu,sigma))[0]\n",
    "print(Ia)\n",
    "\n",
    "Ib = integrate.quad(normalDist, 1.8, 2.1, args=(mu,sigma))[0]\n",
    "print(Ib)\n",
    "\n",
    "Ic = integrate.quad(normalDist, 2.3, np.inf, args=(mu, sigma))[0]\n",
    "print(Ic)\n"
   ]
  },
  {
   "cell_type": "markdown",
   "metadata": {},
   "source": [
    "### Exercicio 3"
   ]
  },
  {
   "cell_type": "code",
   "execution_count": 117,
   "metadata": {},
   "outputs": [
    {
     "name": "stdout",
     "output_type": "stream",
     "text": [
      "0.2865047968601901\n",
      "0.6321205588282045\n",
      "0.2824218327142438\n"
     ]
    }
   ],
   "source": [
    "l = 8\n",
    "\n",
    "Ia = integrate.quad(exponDist, 10, np.inf, args=(l))[0]\n",
    "print(Ia)\n",
    "\n",
    "Ib = integrate.quad(exponDist, -np.inf, l, args=(l))[0]\n",
    "print(Ib)\n",
    "\n",
    "Ic = integrate.quad(exponDist, 5, 11, args=(l))[0]\n",
    "print(Ic)"
   ]
  },
  {
   "cell_type": "markdown",
   "metadata": {},
   "source": [
    "### Exercicio 5"
   ]
  },
  {
   "cell_type": "code",
   "execution_count": 122,
   "metadata": {},
   "outputs": [
    {
     "name": "stdout",
     "output_type": "stream",
     "text": [
      "5.999999999999957\n",
      "0.33333333333329307\n"
     ]
    }
   ],
   "source": [
    "m = meanProbabFunction('uniformDist', args={'a':5, 'b':7, 'mean': True, 'meanSqrX':False})[0]\n",
    "print(m)\n",
    "\n",
    "Ex2 = meanProbabFunction('uniformDist', args={'a':5, 'b':7, 'mean': False, 'meanSqrX':True})[0]\n",
    "v = Ex2 - m**2\n",
    "print(v)"
   ]
  },
  {
   "cell_type": "markdown",
   "metadata": {},
   "source": [
    "### Exercicio 6"
   ]
  },
  {
   "cell_type": "code",
   "execution_count": 142,
   "metadata": {},
   "outputs": [
    {
     "name": "stdout",
     "output_type": "stream",
     "text": [
      "25.38799999998618\n"
     ]
    }
   ],
   "source": [
    "mu = 29.5\n",
    "sigma = 2.5\n",
    "\n",
    "perc = 0.05\n",
    "cum = 0\n",
    "t0 = 0.001\n",
    "dt = 0.0005\n",
    "while cum < perc:\n",
    "  I = integrate.quad(normalDist, t0, t0+dt, args=(mu, sigma))[0]\n",
    "  t0+=dt\n",
    "  cum+=I\n",
    "\n",
    "print(t0)"
   ]
  },
  {
   "cell_type": "code",
   "execution_count": 143,
   "metadata": {},
   "outputs": [
    {
     "data": {
      "image/png": "[encoded data removed]",
      "text/plain": [
       "<Figure size 640x480 with 1 Axes>"
      ]
     },
     "metadata": {},
     "output_type": "display_data"
    }
   ],
   "source": [
    "import matplotlib.pyplot as plt\n",
    "x = np.linspace(20, 40, 1000)\n",
    "plt.plot(x, normalDist(x, mu, sigma))\n",
    "plt.plot(t0, normalDist(t0, mu, sigma), 'or')\n",
    "plt.show()"
   ]
  },
  {
   "cell_type": "markdown",
   "metadata": {},
   "source": [
    "### Exercicio 8"
   ]
  },
  {
   "cell_type": "code",
   "execution_count": 144,
   "metadata": {},
   "outputs": [
    {
     "name": "stdout",
     "output_type": "stream",
     "text": [
      "0.20000000000023335\n",
      "0.1\n",
      "0.19999999999999984\n"
     ]
    }
   ],
   "source": [
    "a = 345\n",
    "b = 355\n",
    "Ia = integrate.quad(uniformDist, 353, np.inf, args=(a,b))[0]\n",
    "print(Ia)\n",
    "\n",
    "Ib = integrate.quad(uniformDist, -np.inf, 346, args=(a,b))[0]\n",
    "print(Ib)\n",
    "\n",
    "rotulo = 350\n",
    "Ic = 1 - integrate.quad(uniformDist, rotulo-4, rotulo+4, args=(a,b))[0]\n",
    "print(Ic)"
   ]
  },
  {
   "cell_type": "markdown",
   "metadata": {},
   "source": [
    "### Exercicio 9"
   ]
  },
  {
   "cell_type": "code",
   "execution_count": 149,
   "metadata": {},
   "outputs": [
    {
     "name": "stdout",
     "output_type": "stream",
     "text": [
      "0.43459820850707837\n",
      "0.48658288096740787\n"
     ]
    }
   ],
   "source": [
    "l = 12\n",
    "Ia = integrate.quad(exponDist, 10, np.inf, args=(l))[0]\n",
    "print(Ia)\n",
    "\n",
    "Ib = integrate.quad(exponDist, 0, 8, args=(l))[0]\n",
    "print(Ib)"
   ]
  },
  {
   "cell_type": "markdown",
   "metadata": {},
   "source": [
    "### Exercicio 11"
   ]
  },
  {
   "cell_type": "code",
   "execution_count": 174,
   "metadata": {},
   "outputs": [
    {
     "name": "stdout",
     "output_type": "stream",
     "text": [
      "997.6759999991651 1.0\n",
      "996.6409999991661 1.4444444444444444\n",
      "995.605999999167 1.8888888888888888\n",
      "994.575999999168 2.333333333333333\n",
      "993.5409999991689 2.7777777777777777\n",
      "992.5059999991698 3.2222222222222223\n",
      "991.4709999991708 3.6666666666666665\n",
      "990.4409999991717 4.111111111111111\n",
      "989.4059999991726 4.555555555555555\n"
     ]
    }
   ],
   "source": [
    "mu = 1000\n",
    "perc = 0.01\n",
    "limite = 990\n",
    "dt = 0.005\n",
    "for sigma in np.linspace(1,5,10):\n",
    "  t0 = 0.001\n",
    "  cum = 0\n",
    "  while cum < perc:\n",
    "    I = integrate.quad(normalDist, t0, t0+dt, args=(mu, sigma))[0]\n",
    "    t0+=dt\n",
    "    cum+=I\n",
    "  print(t0, sigma)\n",
    "  if (t0 < limite): break"
   ]
  },
  {
   "cell_type": "code",
   "execution_count": 175,
   "metadata": {},
   "outputs": [
    {
     "name": "stdout",
     "output_type": "stream",
     "text": [
      "990.4659999991717 4.1\n",
      "990.3609999991718 4.144444444444444\n",
      "990.2559999991719 4.188888888888888\n",
      "990.155999999172 4.233333333333333\n",
      "990.0509999991721 4.277777777777778\n",
      "989.9459999991722 4.322222222222222\n"
     ]
    }
   ],
   "source": [
    "for sigma in np.linspace(4.1,4.5,10):\n",
    "  t0 = 0.001\n",
    "  cum = 0\n",
    "  while cum < perc:\n",
    "    I = integrate.quad(normalDist, t0, t0+dt, args=(mu, sigma))[0]\n",
    "    t0+=dt\n",
    "    cum+=I\n",
    "  print(t0, sigma)\n",
    "  if (t0 < limite): break"
   ]
  },
  {
   "cell_type": "code",
   "execution_count": 176,
   "metadata": {},
   "outputs": [
    {
     "data": {
      "image/png": "[encoded data removed]",
      "text/plain": [
       "<Figure size 640x480 with 1 Axes>"
      ]
     },
     "metadata": {},
     "output_type": "display_data"
    }
   ],
   "source": [
    "x = np.linspace(980, 1010, 1000)\n",
    "plt.plot(x, normalDist(x, mu, sigma))\n",
    "plt.plot(t0, normalDist(t0, mu, sigma), 'or')\n",
    "plt.show()"
   ]
  },
  {
   "cell_type": "markdown",
   "metadata": {},
   "source": [
    "### Exercicio 14"
   ]
  },
  {
   "cell_type": "code",
   "execution_count": 9,
   "metadata": {},
   "outputs": [
    {
     "name": "stdout",
     "output_type": "stream",
     "text": [
      "-0.026388888888888795\n"
     ]
    }
   ],
   "source": [
    "# cov(a,b) = E[ab] - E[a]E[b]\n",
    "\n",
    "xPx = [\n",
    "    (0,np.sum([1/12, 1/8, 1/24, 1/12])),\n",
    "    (1,np.sum([1/60, 1/12, 1/24, 1/40])),\n",
    "    (2,np.sum([7/40, 1/30, 1/4, 1/24]))\n",
    "]\n",
    "\n",
    "yPy = [\n",
    "    (0,np.sum([1/12, 1/60, 7/40])),\n",
    "    (1,np.sum([1/8, 1/12, 1/30])),\n",
    "    (2,np.sum([1/24, 1/24, 1/4])),\n",
    "    (3,np.sum([1/12, 1/40, 1/24]))\n",
    "]\n",
    "\n",
    "xyPxy = [\n",
    "    (0, 1/12),\n",
    "    (0, 1/60),\n",
    "    (0, 7/40),\n",
    "    (0, 1/8),\n",
    "    (1, 1/12),\n",
    "    (2, 1/30),\n",
    "    (0, 1/24),\n",
    "    (2, 1/24),\n",
    "    (4, 1/4),\n",
    "    (0, 1/12),\n",
    "    (3, 1/40),\n",
    "    (6, 1/24),\n",
    "]\n",
    "\n",
    "Ex = expectedValue(xPx)\n",
    "Ey = expectedValue(yPy)\n",
    "Exy = expectedValue(xyPxy)\n",
    "covXY = Exy - Ex*Ey\n",
    "print(covXY) "
   ]
  },
  {
   "cell_type": "code",
   "execution_count": null,
   "metadata": {},
   "outputs": [],
   "source": []
  }
 ],
 "metadata": {
  "kernelspec": {
   "display_name": "Python 3.10.6 64-bit",
   "language": "python",
   "name": "python3"
  },
  "language_info": {
   "codemirror_mode": {
    "name": "ipython",
    "version": 3
   },
   "file_extension": ".py",
   "mimetype": "text/x-python",
   "name": "python",
   "nbconvert_exporter": "python",
   "pygments_lexer": "ipython3",
   "version": "3.10.6"
  },
  "orig_nbformat": 4,
  "vscode": {
   "interpreter": {
    "hash": "916dbcbb3f70747c44a77c7bcd40155683ae19c65e1c03b4aa3499c5328201f1"
   }
  }
 },
 "nbformat": 4,
 "nbformat_minor": 2
}
