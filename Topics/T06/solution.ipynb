{
  "cells": [
    {
      "cell_type": "markdown",
      "metadata": {
        "id": "2xePEbPaYNGW"
      },
      "source": [
        "# <center> Simulado 6 </center>"
      ]
    },
    {
      "cell_type": "markdown",
      "metadata": {
        "id": "yyA8PMFqYrSQ"
      },
      "source": [
        "## Exercício 1\n",
        "\n",
        "H0: média < 168\n",
        "\n",
        "H1: média >= 168"
      ]
    },
    {
      "cell_type": "code",
      "execution_count": null,
      "metadata": {
        "colab": {
          "base_uri": "https://localhost:8080/"
        },
        "id": "Z50vLME1YvI7",
        "outputId": "c544aef1-0b99-4524-b4c6-487cc5bf9c5c"
      },
      "outputs": [
        {
          "name": "stdout",
          "output_type": "stream",
          "text": [
            "a) Estatística do teste: 0.133\n",
            "b) Valor-p: 0.448\n",
            "c) Não rejeita H0\n"
          ]
        }
      ],
      "source": [
        "from scipy import stats\n",
        "import statistics\n",
        "alfa = 0.05\n",
        "dados = [174.8, 170.5, 172.0, 170.9, 178.1, 179.0, 184.5, 143.0, 171.2, 172.6, 140.4, 165.2]\n",
        "n=12\n",
        "T, p = stats.ttest_1samp(dados,popmean=168,alternative='greater')\n",
        "\n",
        "print(f'a) Estatística do teste: {round(T,3)}')\n",
        "print(f'b) Valor-p: {round(p,3)}')\n",
        "\n",
        "if p < alfa:\n",
        "  print(\"c) Rejeita H0\")\n",
        "else:\n",
        "  print(\"c) Não rejeita H0\")"
      ]
    },
    {
      "cell_type": "markdown",
      "metadata": {
        "id": "IvYf7juUmjYj"
      },
      "source": [
        "## Exercício 2\n",
        "\n",
        "\n",
        "H0: $P = 0.04$\n",
        "\n",
        "H1: $P >= 0.04$"
      ]
    },
    {
      "cell_type": "code",
      "execution_count": null,
      "metadata": {
        "colab": {
          "base_uri": "https://localhost:8080/"
        },
        "id": "mq-KHgdnmmOw",
        "outputId": "909895a9-88ef-49fa-d041-3f80e8fd1e58"
      },
      "outputs": [
        {
          "name": "stdout",
          "output_type": "stream",
          "text": [
            "a) Estatística do teste: 1.319\n",
            "b) Valor-p: 0.094\n",
            "1.2815515655446004\n",
            "-1.2815515655446004\n",
            "c) Rejeita H0\n"
          ]
        }
      ],
      "source": [
        "from statsmodels.stats.proportion import proportions_ztest\n",
        "from scipy.stats import norm\n",
        "n = 2600\n",
        "p_chapeu = (n-2482)/n\n",
        "p_min = 0.04\n",
        "alfa = 0.1\n",
        "\n",
        "Z, p = proportions_ztest(count=n-2482,nobs=n,value=p_min,alternative='larger')\n",
        "\n",
        "print(f'a) Estatística do teste: {round(Z,3)}')\n",
        "print(f'b) Valor-p: {round(p,3)}')\n",
        "print(norm.ppf(1-alfa))\n",
        "print(norm.ppf(alfa))\n",
        "if p < alfa:\n",
        "  print(\"c) Rejeita H0\")\n",
        "else:\n",
        "  print(\"c) Não rejeita H0\")"
      ]
    },
    {
      "cell_type": "markdown",
      "metadata": {
        "id": "BRjhMuy2QsAA"
      },
      "source": [
        "## Exercício 3"
      ]
    },
    {
      "cell_type": "markdown",
      "metadata": {
        "id": "S68yr360SCGa"
      },
      "source": [
        "H0: média 2 = média 1\n",
        "\n",
        "H1: média 2 $\\neq$ média 1"
      ]
    },
    {
      "cell_type": "code",
      "execution_count": null,
      "metadata": {
        "colab": {
          "base_uri": "https://localhost:8080/"
        },
        "id": "YWfPH0coQuZ-",
        "outputId": "3847175c-ca15-446d-d146-a2020090215b"
      },
      "outputs": [
        {
          "name": "stdout",
          "output_type": "stream",
          "text": [
            "a) Estatística do teste: 1.2439\n",
            "b) Valor-p: 0.2135\n",
            "c) Não rejeita H0\n"
          ]
        }
      ],
      "source": [
        "import numpy as np\n",
        "import scipy\n",
        "from scipy.stats import norm\n",
        "\n",
        "n1 = 75\n",
        "t_medio1 = 65\n",
        "n2 = 60\n",
        "t_medio2 = 62\n",
        "sigma1 = 15**2\n",
        "sigma2 = 13**2\n",
        "alfa = 0.02\n",
        "\n",
        "Z = (t_medio1 - t_medio2)/(np.sqrt((sigma1/n1) + (sigma2/n2)))\n",
        "\n",
        "p = (2)*scipy.stats.norm.cdf(-abs(Z))\n",
        "\n",
        "print(f'a) Estatística do teste: {round(Z,4)}')\n",
        "print(f'b) Valor-p: {round(p,4)}')\n",
        "\n",
        "if p < alfa:\n",
        "  print(\"c) Rejeita H0\")\n",
        "else:\n",
        "  print(\"c) Não rejeita H0\")"
      ]
    },
    {
      "cell_type": "markdown",
      "metadata": {
        "id": "i5tCkPXIsfp6"
      },
      "source": [
        "## Exercício 4"
      ]
    },
    {
      "cell_type": "code",
      "execution_count": null,
      "metadata": {
        "colab": {
          "base_uri": "https://localhost:8080/"
        },
        "id": "bIC7Qp8qshsm",
        "outputId": "1ad69b4d-d1bc-490d-e8e1-7f0ecad2e191"
      },
      "outputs": [
        {
          "name": "stdout",
          "output_type": "stream",
          "text": [
            "a) Estatística do teste: 2.9531\n",
            "b) Valor-p: 0.0038\n",
            "c) Rejeita H0\n"
          ]
        }
      ],
      "source": [
        "import statistics as st\n",
        "\n",
        "Ta = [8.6, 8.8 ,8.3, 8.2, 7.9, 8.7, 9 ,6.1, 7.1 ,6.7 ,8]\n",
        "Tb = [6.7, 5.4 ,5.9 ,4.7, 5.9, 7.8 ,8.2 ,5.3, 4.9, 8.1, 4 ,8.9]\n",
        "\n",
        "n1 = 11\n",
        "media1 = st.mean(Ta)\n",
        "s1 = st.stdev(Ta)\n",
        "n2 = 12  \n",
        "media2 = st.mean(Tb)\n",
        "s2 = st.stdev(Tb)\n",
        "alfa = 0.08\n",
        "\n",
        "Z, p = scipy.stats.ttest_ind_from_stats(media1, s1, n1, media2, s2, n2, equal_var=True, alternative='greater')\n",
        "\n",
        "print(f'a) Estatística do teste: {round(Z,4)}')\n",
        "print(f'b) Valor-p: {round(p,4)}')\n",
        "\n",
        "if p < alfa:\n",
        "  print(\"c) Rejeita H0\")\n",
        "else:\n",
        "  print(\"c) Não rejeita H0\")"
      ]
    },
    {
      "cell_type": "markdown",
      "metadata": {
        "id": "FO4Mb6FvuqLL"
      },
      "source": [
        "## Exercício 5"
      ]
    },
    {
      "cell_type": "markdown",
      "metadata": {
        "id": "A9hEfg-XvMXO"
      },
      "source": [
        "H0: Proporção 1 = Proporção 2\n",
        "\n",
        "\n",
        "H1: Proporção 1 > Proporção 2"
      ]
    },
    {
      "cell_type": "code",
      "execution_count": 3,
      "metadata": {
        "colab": {
          "base_uri": "https://localhost:8080/"
        },
        "id": "XzJMFghGur1s",
        "outputId": "2aef55ec-4fb5-47c2-f5b8-dff13167748e"
      },
      "outputs": [
        {
          "name": "stdout",
          "output_type": "stream",
          "text": [
            "a) Estatística do teste: 6.6874\n",
            "b) Valor-p: 1.0\n",
            "c) Não rejeita H0\n"
          ]
        }
      ],
      "source": [
        "import math\n",
        "import scipy.stats\n",
        "n1 = 2870\n",
        "p_chapeu1 = 1210/n1\n",
        "n2 = 2200\n",
        "p_chapeu2 = 725/n2\n",
        "alfa = 0.1\n",
        "p_chapeu = (n1*p_chapeu1 + n2*p_chapeu2)/(n1 + n2)\n",
        "\n",
        "Z = (p_chapeu1 - p_chapeu2)/math.sqrt(p_chapeu*(1 - p_chapeu)*(1/n1 + 1/n2))\n",
        "\n",
        "p = scipy.stats.norm.cdf(Z)\n",
        "\n",
        "print(f'a) Estatística do teste: {round(Z,4)}')\n",
        "print(f'b) Valor-p: {round(p,4)}')\n",
        "\n",
        "if p < alfa:\n",
        "  print(\"c) Rejeita H0\")\n",
        "else:\n",
        "  print(\"c) Não rejeita H0\")"
      ]
    },
    {
      "cell_type": "code",
      "execution_count": null,
      "metadata": {
        "id": "MiXF4fqhFkgu"
      },
      "outputs": [],
      "source": []
    }
  ],
  "metadata": {
    "colab": {
      "provenance": []
    },
    "kernelspec": {
      "display_name": "Python 3.10.6 64-bit",
      "language": "python",
      "name": "python3"
    },
    "language_info": {
      "codemirror_mode": {
        "name": "ipython",
        "version": 3
      },
      "file_extension": ".py",
      "mimetype": "text/x-python",
      "name": "python",
      "nbconvert_exporter": "python",
      "pygments_lexer": "ipython3",
      "version": "3.10.6"
    },
    "vscode": {
      "interpreter": {
        "hash": "916dbcbb3f70747c44a77c7bcd40155683ae19c65e1c03b4aa3499c5328201f1"
      }
    }
  },
  "nbformat": 4,
  "nbformat_minor": 0
}
