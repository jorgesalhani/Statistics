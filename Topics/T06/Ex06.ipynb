{
  "cells": [
    {
      "cell_type": "code",
      "execution_count": 4,
      "metadata": {
        "id": "7UxU4ohehXVt"
      },
      "outputs": [],
      "source": [
        "import matplotlib.pyplot as plt\n",
        "import scipy.stats as sts\n",
        "import numpy as np\n"
      ]
    },
    {
      "cell_type": "markdown",
      "metadata": {},
      "source": [
        "### Simulado 6"
      ]
    },
    {
      "cell_type": "markdown",
      "metadata": {},
      "source": [
        "#### Questão 1"
      ]
    },
    {
      "cell_type": "markdown",
      "metadata": {},
      "source": [
        "A altura de pessoas de uma determinada comunidade varia segundo um modelo normal. Estima-se que a média é maior ou igual a 168cm. Foi extraída uma amostra de 12 pessoas e as alturas foram as seguintes:\n",
        "\n",
        "dados = [174.8, 170.5, 172.0, 170.9, 178.1, 179.0, 184.5, 143.0, 171.2, 172.6, 140.4, 165.2]\n",
        "\n",
        "Existe evidência suficiente de que a estimativa não é verdadeira? Use um nível de significância de 5%"
      ]
    },
    {
      "cell_type": "code",
      "execution_count": 22,
      "metadata": {},
      "outputs": [
        {
          "name": "stdout",
          "output_type": "stream",
          "text": [
            "0.13290174269719104\n",
            "0.44833557161329807\n",
            "Rejeitar Ha (alternativa). Aceitar H0 (nula)\n"
          ]
        }
      ],
      "source": [
        "# H0: mu >= 168\n",
        "# sigma desconhecido\n",
        "# amostra pequena\n",
        "\n",
        "significance = 0.05\n",
        "\n",
        "dados = np.array([174.8, 170.5, 172.0, 170.9, 178.1, 179.0, 184.5, 143.0, 171.2, 172.6, 140.4, 165.2])\n",
        "n = len(dados)\n",
        "mu_s = np.mean(dados)\n",
        "mu_0 = 168\n",
        "s2 = np.var(dados) * (n/(n-1))\n",
        "s = np.sqrt(s2)\n",
        "\n",
        "z = (mu_s - mu_0) / (s / np.sqrt(n))\n",
        "print(z) # Quanto mu_s está deslocado da média estimada, tomada como H0\n",
        "\n",
        "pvalor = 1 - sts.t.cdf(z, n-1) # P(X > 168) <-> P(Z > z), com z = media deslocada ^ H0\n",
        "print(pvalor) # Probabilidade que media seja menor que 168\n",
        "\n",
        "if (pvalor > significance): print(\"Rejeitar Ha (alternativa). Aceitar H0 (nula)\")\n",
        "else: print(\"Aceitar Ha (alternativa). Rejeitar H0 (nula)\")\n"
      ]
    },
    {
      "cell_type": "markdown",
      "metadata": {},
      "source": [
        "Seja p-valor probabilidade de ocorrer H0.\n",
        "\n",
        "Se p-valor pequeno (menor que significância), rejeitamos H0, pois sua probabilidade de ocorrer é baixa. Aceitamos Ha, em consequência\n",
        "\n",
        "Se p-valor grande (maior que significância), não rejeitamos H0, pois sua probabilidade de ocorrer é alta. Rejeitamos Ha, em consequência"
      ]
    },
    {
      "cell_type": "markdown",
      "metadata": {},
      "source": [
        "#### Questão 2"
      ]
    },
    {
      "cell_type": "markdown",
      "metadata": {},
      "source": [
        "A fim de evitar riscos sanitários e corrosões em tubulações, a Companhia de Saneamento básico recomenda que o pH da água nos domicílios esteja na faixa de 6.0 a 9.5. Com o objetivo de estimar a proporção p de domicílios nos quais o pH da água está fora da faixa recomendada, foi coletada uma amostra de água de 2600 domicílios e foram observadas 2482 amostras de água com pH na faixa recomendada. Estima-se que p vale no mínimo 0.04.\n",
        "\n",
        "Teste a hipótese da afirmação sobre o valor mínimo da proporção. Use um nível de significância de 10%"
      ]
    },
    {
      "cell_type": "code",
      "execution_count": 20,
      "metadata": {},
      "outputs": [
        {
          "name": "stdout",
          "output_type": "stream",
          "text": [
            "1.3190851082789934\n",
            "0.09357033054902064\n",
            "Aceitar Ha (alternativa). Rejeitar H0 (nula)\n"
          ]
        }
      ],
      "source": [
        "# H0: p >= 0.04\n",
        "# Ha: p < 0.04\n",
        "\n",
        "n = 2600\n",
        "p = (n - 2482)/n # taxa de sucessos\n",
        "p0 = 0.04\n",
        "signif = 0.1\n",
        "\n",
        "z = (p - p0)/(np.sqrt(p*(1-p)/n))\n",
        "print(z)\n",
        "\n",
        "pvalor = 1 - sts.norm.cdf(z,loc=0,scale=1) # P(p >= 0.04) <-> P(Z < z)\n",
        "print(pvalor)\n",
        "\n",
        "if (pvalor > signif): print(\"Rejeitar Ha (alternativa). Aceitar H0 (nula)\")\n",
        "else: print(\"Aceitar Ha (alternativa). Rejeitar H0 (nula)\")\n"
      ]
    },
    {
      "cell_type": "markdown",
      "metadata": {},
      "source": [
        "#### Questão 3"
      ]
    },
    {
      "cell_type": "markdown",
      "metadata": {},
      "source": [
        "Uma transportadora de mercadorias tem duas possibilidades de trajeto para realizar entregas. O gerente de logística desconfia não haver diferença significativa entre o tempo médio de cada trajeto. Foram selecionadas aleatoriamente 39 entregas realizadas no primeiro trajeto, resultando em uma média amostral de 53 min. No segundo trajeto, foram selecionadas 47 entregas, e o tempo médio foi de 61 min. O desvio padrão populacional do primeiro trajeto é de $\\sigma_1 = 7$ min, e do segundo, $\\sigma_2 = 9$ min. \n",
        "\n",
        "Teste a hipótese de que não existe diferença significativa entre o tempo médio dos dois trajetos, ao nível de 5% de significância"
      ]
    },
    {
      "cell_type": "code",
      "execution_count": 30,
      "metadata": {},
      "outputs": [
        {
          "name": "stdout",
          "output_type": "stream",
          "text": [
            "-4.634419806460341\n",
            "3.579399558777574e-06\n",
            "Aceitar Ha (alternativa). Rejeitar H0 (nula)\n"
          ]
        }
      ],
      "source": [
        "# H0: mu1 = mu2\n",
        "# Ha: mu1 != mu2\n",
        "# desvio padrao conhecidos\n",
        "# amostra grande\n",
        "\n",
        "mu1_s = 53\n",
        "n1 = 39\n",
        "s12 = 7**2\n",
        "\n",
        "mu2_s = 61\n",
        "n2 = 47\n",
        "s22 = 9**2\n",
        "\n",
        "z = (mu1_s - mu2_s) / (np.sqrt((s12/n1) + (s22/n2)))\n",
        "\n",
        "print(z)\n",
        "\n",
        "pvalor = sts.norm.cdf(-abs(z)) + (1 - sts.norm.cdf(abs(z)))\n",
        "# <-> pvalor = 2 * sts.norm.cdf(-abs(z))\n",
        "\n",
        "print(pvalor)\n",
        "\n",
        "signif = 0.05\n",
        "if (pvalor > signif): print(\"Rejeitar Ha (alternativa). Aceitar H0 (nula)\")\n",
        "else: print(\"Aceitar Ha (alternativa). Rejeitar H0 (nula)\")"
      ]
    },
    {
      "cell_type": "markdown",
      "metadata": {},
      "source": [
        "#### Questão 4"
      ]
    },
    {
      "cell_type": "markdown",
      "metadata": {},
      "source": [
        "Uma pesquisa avaliou a eficácia de dois tipos de terinamento, com a finalidade de reduzir o tempo médio de determinada tarefa doméstica. Foram selecionadas duas amoastras aleatórias de populações com distribuição normal, onde assume-se que $\\sigma_1 \\neq \\sigma_2$. Os dados da pesquisa são\n",
        "\n",
        "$n_1 = 12, \\overline{x}_1 = 42.3, s_1 = 2.27$\n",
        "\n",
        "$n_2 = 14, \\overline{x}_2 = 38.8, s_2 = 3.64$\n",
        "\n",
        "Teste a hipótese de que o tempo médio para a realização da tarefa é igual para os dois treinamentos."
      ]
    },
    {
      "cell_type": "code",
      "execution_count": 31,
      "metadata": {},
      "outputs": [
        {
          "name": "stdout",
          "output_type": "stream",
          "text": [
            "2.9839330623712166\n",
            "0.0065174551463041495\n",
            "Aceitar Ha (alternativa). Rejeitar H0 (nula)\n"
          ]
        }
      ],
      "source": [
        "# H0: mu1 = mu2\n",
        "# Ha: mu1 != mu2\n",
        "# desvios padrao conhecidos e diferentes\n",
        "# amostra grande\n",
        "\n",
        "\"\"\"\n",
        "  Caso sigmas iguais e X distribuicao normal:\n",
        "  - (chi^2, com n-1 grau de liberdade)\n",
        "  q2 = ((n-1)*(s**2))/(sigma0**2)  (estatistica do teste)\n",
        "\n",
        "  pvalor = sts.chi2.cdf(n-1)\n",
        "\"\"\"\n",
        "\n",
        "xb1 = 42.3\n",
        "n1 = 12\n",
        "s12 = (2.27)**2\n",
        "\n",
        "xb2 = 38.8\n",
        "n2 = 14\n",
        "s22 = (3.64)**2\n",
        "\n",
        "z = (xb1 - xb2) / np.sqrt((s12 / n1) + (s22 / n2))\n",
        "print(z)\n",
        "\n",
        "v = ( (((s12 / n1) + (s22 / n2))**2) / ( (((s12 / n1)**2) / (n1 + 1)) + (((s22 / n2)**2) / (n2 + 1)) ) ) - 2 # graus de liberdade\n",
        "\n",
        "pvalor = sts.t.cdf(-abs(z), v) + (1 - sts.t.cdf(abs(z), v))\n",
        "# <-> pvalor = 2 * sts.t.cdf(-abs(z), v)\n",
        "\n",
        "print(pvalor)\n",
        "\n",
        "signif = 0.05\n",
        "if (pvalor > signif): print(\"Rejeitar Ha (alternativa). Aceitar H0 (nula)\")\n",
        "else: print(\"Aceitar Ha (alternativa). Rejeitar H0 (nula)\")"
      ]
    },
    {
      "cell_type": "markdown",
      "metadata": {},
      "source": [
        "#### Questão 5"
      ]
    },
    {
      "cell_type": "markdown",
      "metadata": {},
      "source": [
        "Um estudo com 2870 motoristas, 1210 confirmam ter o hábito de mexer no celular com o carro em movimento mesmo havendo uma lei que prevê multa para quem realiza essa ação. Essa lei foi revogada e depois foi realizado ouro estudo com 2200 motoristas, dos quais 1015 afirmaram ter o hábito. \n",
        "\n",
        "Usando um nível de significância de 1% e aproximação pela normal, verifique se a alegação de que a proporção de motoristas com hábito de mexer no celular no trânsito aumentou significativamente após a revogação da lei."
      ]
    },
    {
      "cell_type": "code",
      "execution_count": 33,
      "metadata": {},
      "outputs": [
        {
          "name": "stdout",
          "output_type": "stream",
          "text": [
            "-2.8275205732953963\n",
            "0.0023455000544627238\n",
            "Aceitar Ha (alternativa). Rejeitar H0 (nula)\n"
          ]
        }
      ],
      "source": [
        "# H0: mu1 >= mu2\n",
        "# Ha: mu1 < mu2\n",
        "# desvios padrao nao conhecidos\n",
        "# amostra grande\n",
        "\n",
        "n1 = 2870\n",
        "p1_s = 1210 / n1\n",
        "\n",
        "n2 = 2200\n",
        "p2_s = 1015 / n2\n",
        "\n",
        "p_s = (n1*p1_s + n2*p2_s) / (n1 + n2)\n",
        "\n",
        "z = (p1_s - p2_s) / np.sqrt(p_s * (1 - p_s) * (1/n1 + 1/n2))\n",
        "print(z)\n",
        "\n",
        "pvalor = sts.norm.cdf(z,0,1)\n",
        "print(pvalor)\n",
        "\n",
        "signif = 0.01\n",
        "if (pvalor > signif): print(\"Rejeitar Ha (alternativa). Aceitar H0 (nula)\")\n",
        "else: print(\"Aceitar Ha (alternativa). Rejeitar H0 (nula)\")"
      ]
    },
    {
      "cell_type": "markdown",
      "metadata": {},
      "source": [
        "### Lista 6"
      ]
    },
    {
      "cell_type": "code",
      "execution_count": null,
      "metadata": {
        "colab": {
          "base_uri": "https://localhost:8080/"
        },
        "id": "RG7DyQKyiF1o",
        "outputId": "f2ee80cc-ede8-472d-dc4b-9f61f36b1a4e"
      },
      "outputs": [
        {
          "name": "stdout",
          "output_type": "stream",
          "text": [
            "0.01760010010885238\n"
          ]
        }
      ],
      "source": [
        "## probab de obter 60 sucessos numa amostra de 100 elementos, sendo cada elemento uma Bernoulli (p=0.5)\n",
        "pvalorbinom=1-sss.binom.cdf(60,100,0.5)\n",
        "print(pvalorbinom)"
      ]
    },
    {
      "cell_type": "code",
      "execution_count": null,
      "metadata": {
        "colab": {
          "base_uri": "https://localhost:8080/"
        },
        "id": "3U5v1gdArGKN",
        "outputId": "79d0f379-4961-415a-86ee-34daf9256e73"
      },
      "outputs": [
        {
          "name": "stdout",
          "output_type": "stream",
          "text": [
            "0.02385744011867555 0.05989746521295913\n"
          ]
        }
      ],
      "source": [
        "##exo 3a\n",
        "desvioX=10\n",
        "nn=50\n",
        "## calculamos o p-valor de H0 e de Ha (mas o de Ha não se usa)\n",
        "pvalorH0=sss.norm.cdf(15.2,18,desvioX/np.sqrt(nn))\n",
        "pvalorHa=1-sss.norm.cdf(15.2,13,desvioX/np.sqrt(nn))\n",
        "print(pvalorH0,pvalorHa)"
      ]
    },
    {
      "cell_type": "code",
      "execution_count": null,
      "metadata": {
        "colab": {
          "base_uri": "https://localhost:8080/"
        },
        "id": "3LBjdBJTG8rD",
        "outputId": "b0682ec6-6858-44de-9d8b-a0b30474c252"
      },
      "outputs": [
        {
          "name": "stdout",
          "output_type": "stream",
          "text": [
            "0.04771488023735104\n"
          ]
        }
      ],
      "source": [
        "## caso bilateral (Ha é que mu é distinto de 18)\n",
        "pvalorbil=sss.norm.cdf(15.2,18,desvioX/np.sqrt(nn))+1-sss.norm.cdf(20.8,18,desvioX/np.sqrt(nn))\n",
        "print(pvalorbil)"
      ]
    },
    {
      "cell_type": "code",
      "execution_count": null,
      "metadata": {
        "colab": {
          "base_uri": "https://localhost:8080/"
        },
        "id": "Q5HZH5feldpk",
        "outputId": "eb68570a-e618-43fe-87ee-d2b0660ed2b7"
      },
      "outputs": [
        {
          "name": "stdout",
          "output_type": "stream",
          "text": [
            "0.00020347600872250293\n",
            "0.00040695201744498234\n"
          ]
        }
      ],
      "source": [
        "## peso medio de 50 passageiros é 200,\n",
        "## queremos testar a hipótese de que o peso médio populacional é 195, com variancia de 100\n",
        "## isto é um \"z-test\"\n",
        "## unilateral: testar se aumentou\n",
        "pvalornormal=1-sss.norm.cdf(200,195,np.sqrt(100/50))\n",
        "print(pvalornormal)\n",
        "#bilateral\n",
        "pvalornormalbil=1-sss.norm.cdf(200,195,np.sqrt(100/50))+sss.norm.cdf(190,195,np.sqrt(100/50))\n",
        "print(pvalornormalbil)"
      ]
    },
    {
      "cell_type": "markdown",
      "metadata": {
        "id": "v-9o1HsVwe3l"
      },
      "source": [
        "Proporção do rebanho com verminose."
      ]
    },
    {
      "cell_type": "code",
      "execution_count": null,
      "metadata": {
        "colab": {
          "base_uri": "https://localhost:8080/"
        },
        "id": "NaH8QriLwvym",
        "outputId": "6f3f9e62-928f-4bdf-f8b3-82f042161c10"
      },
      "outputs": [
        {
          "name": "stdout",
          "output_type": "stream",
          "text": [
            "0.3208738883628403\n"
          ]
        }
      ],
      "source": [
        "## p-valor\n",
        "## isto aquií é um teste binomial\n",
        "theta=0.1\n",
        "n=100\n",
        "vobs=8\n",
        "pvalue=sss.binom.cdf(vobs,n,theta)\n",
        "print(pvalue)"
      ]
    },
    {
      "cell_type": "code",
      "execution_count": null,
      "metadata": {
        "colab": {
          "base_uri": "https://localhost:8080/"
        },
        "id": "4WKUnhzUyJMO",
        "outputId": "9285b35e-8791-415e-a4cf-6d5f6f7a7251"
      },
      "outputs": [
        {
          "data": {
            "text/plain": [
              "BinomTestResult(k=8, n=100, alternative='less', proportion_estimate=0.08, pvalue=0.3208738883628403)"
            ]
          },
          "execution_count": 10,
          "metadata": {},
          "output_type": "execute_result"
        }
      ],
      "source": [
        "## podemos usar a função que realiza o test, obtendo o mesmo resultado\n",
        "sss.binomtest(vobs,n,p=theta,alternative='less')"
      ]
    },
    {
      "cell_type": "markdown",
      "metadata": {
        "id": "3NW8NTUs3lpS"
      },
      "source": [
        "Aproximando por normal"
      ]
    },
    {
      "cell_type": "code",
      "execution_count": null,
      "metadata": {
        "colab": {
          "base_uri": "https://localhost:8080/"
        },
        "id": "VeI7pybKBgXL",
        "outputId": "b063e49b-c68e-4cb1-d762-5b27db7974f4"
      },
      "outputs": [
        {
          "name": "stdout",
          "output_type": "stream",
          "text": [
            "0.25249253754692297\n",
            "-0.6666666666666667\n"
          ]
        }
      ],
      "source": [
        "pvalue2=sss.norm.cdf(vobs,theta*n,np.sqrt(theta*(1-theta)*n))\n",
        "print(pvalue2)\n",
        "print((vobs/n-theta)/np.sqrt(theta*(1-theta)/n))"
      ]
    },
    {
      "cell_type": "markdown",
      "metadata": {
        "id": "3D00KEvS1bGo"
      },
      "source": [
        "Pontos de um exame de inglês"
      ]
    },
    {
      "cell_type": "code",
      "execution_count": null,
      "metadata": {
        "colab": {
          "base_uri": "https://localhost:8080/",
          "height": 369
        },
        "id": "Wf79T3d11uRJ",
        "outputId": "7a6fa23b-5dcd-4f50-a705-7c0567da1dd7"
      },
      "outputs": [
        {
          "name": "stdout",
          "output_type": "stream",
          "text": [
            "DescribeResult(nobs=10, minmax=(59, 86), mean=75.7, variance=74.67777777777778, skewness=-0.6758342069252118, kurtosis=-0.5484422474612001)\n",
            "10\n",
            "75.7\n",
            "74.67777777777778\n",
            "-1.5735217944702773\n",
            "0.07502463015017978\n"
          ]
        },
        {
          "data": {
            "image/png": "[encoded data removed]",
            "text/plain": [
              "<Figure size 432x288 with 1 Axes>"
            ]
          },
          "metadata": {
            "needs_background": "light"
          },
          "output_type": "display_data"
        }
      ],
      "source": [
        "## p-valor a partir de teste de média com variância desconhecida\n",
        "df=np.array([65, 74, 78, 86, 59,84, 75, 72, 81, 83])\n",
        "print(sss.describe(df))\n",
        "theta=80\n",
        "nn=len(df)\n",
        "print(nn)\n",
        "thetaobs=df.mean()\n",
        "print(thetaobs)\n",
        "estimvar=np.var(df,ddof=1)\n",
        "print(estimvar)\n",
        "## corresponde fazer um t-test porque a variância da população é desconhecida e deve ser estimada a partir da amostra\n",
        "tobs=(thetaobs-theta)/(np.sqrt(estimvar/nn))\n",
        "## tobs tem distribuiçao t com n-1 graus de liberdade\n",
        "print(tobs)\n",
        "pvaluet1=sss.t.cdf(tobs,nn-1)\n",
        "print(pvaluet1)\n",
        "plt.hist(df,5)\n",
        "plt.show()\n"
      ]
    },
    {
      "cell_type": "code",
      "execution_count": null,
      "metadata": {
        "colab": {
          "base_uri": "https://localhost:8080/"
        },
        "id": "x9RRceTzJCHI",
        "outputId": "4f916dd6-695b-44a3-d03e-9599db8e36cf"
      },
      "outputs": [
        {
          "data": {
            "text/plain": [
              "Ttest_1sampResult(statistic=-1.5735217944702773, pvalue=0.07502463015017978)"
            ]
          },
          "execution_count": 13,
          "metadata": {},
          "output_type": "execute_result"
        }
      ],
      "source": [
        "## o anterior está implementado na função ttest_1samp (ver que o p-valor é igual)\n",
        "sss.ttest_1samp(df,popmean=80,alternative='less')"
      ]
    },
    {
      "cell_type": "code",
      "execution_count": null,
      "metadata": {
        "colab": {
          "base_uri": "https://localhost:8080/"
        },
        "id": "0Z6Jw7JUjktE",
        "outputId": "5c591cf8-b909-4fae-f6bc-d021847e10b0"
      },
      "outputs": [
        {
          "name": "stdout",
          "output_type": "stream",
          "text": [
            "0.057799022922622775\n",
            "0.057799022922622775\n",
            "0.057799022922622775\n"
          ]
        }
      ],
      "source": [
        "pvalue3=sss.norm.cdf(tobs,0,1) ##aproximando pela normal (o p-value obtido é diferente, só se a amostra e bem grande coincidem)\n",
        "print(pvalue3)\n",
        "pvalue4=sss.norm.cdf(thetaobs,theta,np.sqrt(estimvar/nn))\n",
        "print(pvalue4)\n",
        "pvalue5=sss.norm.cdf(df.mean(),theta,np.std(df,ddof=1)/np.sqrt(nn))\n",
        "print(pvalue5)"
      ]
    },
    {
      "cell_type": "code",
      "execution_count": null,
      "metadata": {
        "id": "DIkgYcb33NQY"
      },
      "outputs": [],
      "source": []
    },
    {
      "cell_type": "markdown",
      "metadata": {
        "id": "fo1Y3v9c2ygF"
      },
      "source": [
        "Podemos gerar valores com distribuição normal de meia 80 e ver se a média é mais extrema que 75.7 (nesse caso mais extrema significa MENOR, já que a hipótese sendo testada é que \"a média valia 80 e diminuiu\")"
      ]
    },
    {
      "cell_type": "code",
      "execution_count": null,
      "metadata": {
        "colab": {
          "base_uri": "https://localhost:8080/",
          "height": 407
        },
        "id": "M6-7xqii2921",
        "outputId": "77f55e85-f9c1-449f-930d-c6038b6c7128"
      },
      "outputs": [
        {
          "name": "stdout",
          "output_type": "stream",
          "text": [
            "[ 85.52087141  87.23230513  77.7987692   77.13365375  93.4492042\n",
            "  89.01893098 101.46188042  81.7104567   76.91068266  87.86376527]\n",
            "DescribeResult(nobs=10, minmax=(76.91068266471007, 101.46188042378999), mean=85.81005197266265, variance=61.71371624106929, skewness=0.5758542223758452, kurtosis=-0.41034515309769537)\n"
          ]
        },
        {
          "data": {
            "text/plain": [
              "(array([4., 1., 3., 1., 1.]),\n",
              " array([ 76.91068266,  81.82092222,  86.73116177,  91.64140132,\n",
              "         96.55164087, 101.46188042]),\n",
              " <a list of 5 Patch objects>)"
            ]
          },
          "execution_count": 22,
          "metadata": {},
          "output_type": "execute_result"
        },
        {
          "data": {
            "image/png": "[encoded data removed]",
            "text/plain": [
              "<Figure size 432x288 with 1 Axes>"
            ]
          },
          "metadata": {
            "needs_background": "light"
          },
          "output_type": "display_data"
        }
      ],
      "source": [
        "dfsintetico=np.random.normal(80,np.sqrt(75),10) ##precisamos dizer a variancia dos dados sinteticos\n",
        "print(dfsintetico)\n",
        "print(sss.describe(dfsintetico))\n",
        "## a média deveria ser menor que 75.7 um 7.5% das vezes (vai depender da variancia)\n",
        "## podemos ver o histograma do dado sintetico para comparar com o do dado real (e verificar normalidade)\n",
        "plt.hist(dfsintetico,5)"
      ]
    },
    {
      "cell_type": "code",
      "execution_count": null,
      "metadata": {
        "colab": {
          "base_uri": "https://localhost:8080/"
        },
        "id": "Kr6GhwYi5DN3",
        "outputId": "9eb42ecb-f496-4002-c6f7-a70b06daa83d"
      },
      "outputs": [
        {
          "name": "stdout",
          "output_type": "stream",
          "text": [
            "7608 99999 0.07608\n"
          ]
        }
      ],
      "source": [
        "cont=0\n",
        "for kk in range(100000):\n",
        "  dfsintetico=np.random.normal(80,np.sqrt(90),10) ##precisamos dizer a variancia dos dados sinteticos\n",
        "                    ## quanto meor a variancia especificada, menor a probabilidade da meia < 75.7\n",
        "  if dfsintetico.mean() < 75.7:\n",
        "    cont=cont+1\n",
        "  \n",
        "print(cont,kk,cont/(kk+1))"
      ]
    },
    {
      "cell_type": "markdown",
      "metadata": {
        "id": "jnJcsOiI6z5c"
      },
      "source": [
        "Médias de 50 clientes foram 62 e 71 (gasto em compras). O desvio padrão é 20 unidades. H0: médias iguais"
      ]
    },
    {
      "cell_type": "code",
      "execution_count": null,
      "metadata": {
        "colab": {
          "base_uri": "https://localhost:8080/"
        },
        "id": "NhMoRNqq7Ho-",
        "outputId": "8d0f6664-86f7-459a-a6a4-060fc46c7152"
      },
      "outputs": [
        {
          "name": "stdout",
          "output_type": "stream",
          "text": [
            "-2.25\n",
            "0.02444894531008939\n"
          ]
        }
      ],
      "source": [
        "z=(62-71)/(20*np.sqrt(2/50))\n",
        "print(z)\n",
        "pvaluez=sss.norm.cdf(z)*2\n",
        "print(pvaluez)"
      ]
    },
    {
      "cell_type": "code",
      "execution_count": null,
      "metadata": {
        "colab": {
          "base_uri": "https://localhost:8080/"
        },
        "id": "L1R7QAnG7ekV",
        "outputId": "8c8e27ba-1ee0-440c-c48b-594bec11c93b"
      },
      "outputs": [
        {
          "name": "stdout",
          "output_type": "stream",
          "text": [
            "2484 99999 0.02484\n"
          ]
        }
      ],
      "source": [
        "## verificando por simulaçao\n",
        "cont=0\n",
        "for kk in range(100000):\n",
        "  dfsintetico1=np.random.normal(0,20,50) ##colocamos media zero em ambos\n",
        "  dfsintetico2=np.random.normal(0,20,50)\n",
        "  if abs(dfsintetico1.mean()-dfsintetico2.mean()) > abs(62-71):\n",
        "    cont=cont+1\n",
        "  \n",
        "print(cont,kk,cont/(kk+1))"
      ]
    },
    {
      "cell_type": "markdown",
      "metadata": {
        "id": "Eslqeu1y88az"
      },
      "source": [
        "Tipo X e tipo Y de concreto"
      ]
    },
    {
      "cell_type": "code",
      "execution_count": null,
      "metadata": {
        "colab": {
          "base_uri": "https://localhost:8080/"
        },
        "id": "-6qrHmA48_4i",
        "outputId": "76464d8b-d068-47f1-dd48-04194ca1a4c5"
      },
      "outputs": [
        {
          "name": "stdout",
          "output_type": "stream",
          "text": [
            "55.6 4.159326868617084\n",
            "53.0 1.5811388300841898\n"
          ]
        },
        {
          "data": {
            "text/plain": [
              "Ttest_indResult(statistic=1.3065491598369765, pvalue=0.1234239912084517)"
            ]
          },
          "execution_count": 19,
          "metadata": {},
          "output_type": "execute_result"
        }
      ],
      "source": [
        "dfx=np.array([54, 55, 58, 50, 61])\n",
        "print(dfx.mean(),np.std(dfx,ddof=1))\n",
        "dfy=np.array([51, 54, 55, 52, 53])\n",
        "print(dfy.mean(),np.std(dfy,ddof=1))\n",
        "## teste de comparação de médias com duas amostras (não assumimos que as variâncias sejam iguais)\n",
        "sss.ttest_ind(dfx,dfy,alternative='greater',equal_var=False)"
      ]
    },
    {
      "cell_type": "code",
      "execution_count": null,
      "metadata": {
        "colab": {
          "base_uri": "https://localhost:8080/"
        },
        "id": "JVaNWDseBjV0",
        "outputId": "1216cb7e-01f0-4cb4-8e57-dd87d4f62fbb"
      },
      "outputs": [
        {
          "data": {
            "text/plain": [
              "Ttest_indResult(statistic=1.3065491598369765, pvalue=0.11383696170651378)"
            ]
          },
          "execution_count": 20,
          "metadata": {},
          "output_type": "execute_result"
        }
      ],
      "source": [
        "sss.ttest_ind(dfx,dfy,alternative='greater',equal_var=True)\n"
      ]
    }
  ],
  "metadata": {
    "colab": {
      "provenance": []
    },
    "kernelspec": {
      "display_name": "Python 3.10.6 64-bit",
      "language": "python",
      "name": "python3"
    },
    "language_info": {
      "codemirror_mode": {
        "name": "ipython",
        "version": 3
      },
      "file_extension": ".py",
      "mimetype": "text/x-python",
      "name": "python",
      "nbconvert_exporter": "python",
      "pygments_lexer": "ipython3",
      "version": "3.10.6"
    },
    "vscode": {
      "interpreter": {
        "hash": "916dbcbb3f70747c44a77c7bcd40155683ae19c65e1c03b4aa3499c5328201f1"
      }
    }
  },
  "nbformat": 4,
  "nbformat_minor": 0
}
