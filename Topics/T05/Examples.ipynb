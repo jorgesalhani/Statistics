{
 "cells": [
  {
   "cell_type": "markdown",
   "metadata": {},
   "source": [
    "# Exemplos de aulas"
   ]
  },
  {
   "cell_type": "markdown",
   "metadata": {},
   "source": [
    "### Inferência Estatística"
   ]
  },
  {
   "cell_type": "markdown",
   "metadata": {},
   "source": [
    "A quantidade de tempo, em minutos, que um passageiro gasta esperando na fila de checkin de um aeroporto é uma variável aleatória com média e variância desconhecidos e distribuição normal.\n",
    "\n",
    "Supona que uma amostra aleatória de 10 passageiros foi observada, em que os tempos foram: t = [10, 9, 11, 8.5, 7.1, 9, 9.5, 8, 10, 7.8]\n",
    "\n",
    "1. Encontre a estimativa da média e variância.\n",
    "\n",
    "2. Essas estimativas são não viciadas?"
   ]
  },
  {
   "cell_type": "code",
   "execution_count": 23,
   "metadata": {},
   "outputs": [],
   "source": [
    "import  numpy as np\n",
    "\n",
    "class PointEstimation:\n",
    "  def __init__(self, X: list) -> None:\n",
    "    self.X = X\n",
    "    self.N = len(X)\n",
    "\n",
    "  def uniformMu(self, a: float, b: float) -> float:\n",
    "    if (b > a): return (b - a) / 2\n",
    "    else: return (a - b) / 2\n",
    "\n",
    "  def uniformVariance(self, a: float, b: float) -> float:\n",
    "    return ((b - a) ** 2) / 12\n",
    "\n",
    "  def binomialP(self) -> float:\n",
    "    return np.sum(self.X) / self.N\n",
    "\n",
    "  def poissonMu(self) -> float:\n",
    "    return np.sum(self.X) / self.N\n",
    "\n",
    "  def exponentialLambda(self) -> float:\n",
    "    return 1 / (np.sum(self.X) / self.N)\n",
    "\n",
    "  def normalMu(self) -> float:\n",
    "    return np.sum(self.X) / self.N\n",
    "\n",
    "  def normalVariance(self) -> float:\n",
    "    mu = self.normalMu()\n",
    "    sumSqr = np.sum([(x - mu)**2 for x in self.X])\n",
    "    return (1 / (self.N - 1)) * sumSqr"
   ]
  },
  {
   "cell_type": "code",
   "execution_count": 24,
   "metadata": {},
   "outputs": [
    {
     "name": "stdout",
     "output_type": "stream",
     "text": [
      "8.989999999999998\n",
      "1.3943333333333332\n"
     ]
    }
   ],
   "source": [
    "t = [10, 9, 11, 8.5, 7.1, 9, 9.5, 8, 10, 7.8]\n",
    "PE = PointEstimation(t)\n",
    "\n",
    "mu = PE.normalMu()\n",
    "var = PE.normalVariance()\n",
    "\n",
    "print(mu)\n",
    "print(var)"
   ]
  },
  {
   "cell_type": "markdown",
   "metadata": {},
   "source": [
    "#### Distribuições amostrais e Teorema Central Do Limite"
   ]
  },
  {
   "cell_type": "code",
   "execution_count": 88,
   "metadata": {},
   "outputs": [],
   "source": [
    "import numpy as np\n",
    "\n",
    "class SampleDistribution:\n",
    "  def __init__(self, N: int, mu: float, sigmaSqr: float) -> None:\n",
    "    self.N = N\n",
    "    self.mu = mu\n",
    "    self.sigmaSqr = sigmaSqr\n",
    "\n",
    "  def CLTsampleZ(self, x: float) -> float:\n",
    "    meanShift = x - (self.mu * self.N)\n",
    "    varShift = self.N * self.sigmaSqr\n",
    "    normalFactor = 1/(np.sqrt(2 * varShift * np.pi))\n",
    "    expFactor = np.exp(-(1/2) * ((meanShift ** 2) / varShift))\n",
    "    return normalFactor * expFactor"
   ]
  },
  {
   "cell_type": "code",
   "execution_count": 89,
   "metadata": {},
   "outputs": [
    {
     "data": {
      "text/plain": [
       "0.19947114020071635"
      ]
     },
     "execution_count": 89,
     "metadata": {},
     "output_type": "execute_result"
    }
   ],
   "source": [
    "SD = SampleDistribution(N=48, mu=0, sigmaSqr=1/12)\n",
    "SD.CLTsampleZ(0)"
   ]
  },
  {
   "cell_type": "markdown",
   "metadata": {},
   "source": [
    "Após arredondamento par ao inteiro mais próximo, 48 números são somados. Os erros de arredondamento individuais são uniformemente distribuídos no intervalo (-0.5, 0.5). \n",
    "\n",
    "Qual a probabilidade de que a soma dos números arredondados seja diferente da verdadeira soma por mais de 3 unidades (em ambos os sentidos)?"
   ]
  },
  {
   "cell_type": "code",
   "execution_count": 91,
   "metadata": {},
   "outputs": [
    {
     "name": "stdout",
     "output_type": "stream",
     "text": [
      "0.5 0.08333333333333333\n"
     ]
    },
    {
     "data": {
      "image/png": "[encoded data removed]",
      "text/plain": [
       "<Figure size 640x480 with 1 Axes>"
      ]
     },
     "metadata": {},
     "output_type": "display_data"
    },
    {
     "name": "stdout",
     "output_type": "stream",
     "text": [
      "1.0000000000000002\n"
     ]
    }
   ],
   "source": [
    "X = [-0.5, 0.5]\n",
    "PE = PointEstimation(X)\n",
    "mu = PE.uniformMu(X[0], X[1])\n",
    "var = PE.uniformVariance(X[0], X[1])\n",
    "print(mu, var)\n",
    "\n",
    "from scipy import integrate\n",
    "\n",
    "SD = SampleDistribution(N=48, mu=mu, sigmaSqr=var)\n",
    "\n",
    "import matplotlib.pyplot as plt\n",
    "\n",
    "t = np.arange(-1, 1, 0.001)\n",
    "plt.plot(t, [SD.CLTsampleZ(i) for i in t], 'r-')\n",
    "plt.show()\n",
    "\n",
    "Z = integrate.quad(SD.CLTsampleZ, -np.inf, -3)[0] + integrate.quad(SD.CLTsampleZ, 3, np.inf)[0]\n",
    "print(Z)\n",
    "\n",
    "\n",
    "\n"
   ]
  },
  {
   "cell_type": "code",
   "execution_count": null,
   "metadata": {},
   "outputs": [],
   "source": []
  }
 ],
 "metadata": {
  "kernelspec": {
   "display_name": "Python 3.10.6 64-bit",
   "language": "python",
   "name": "python3"
  },
  "language_info": {
   "codemirror_mode": {
    "name": "ipython",
    "version": 3
   },
   "file_extension": ".py",
   "mimetype": "text/x-python",
   "name": "python",
   "nbconvert_exporter": "python",
   "pygments_lexer": "ipython3",
   "version": "3.10.6"
  },
  "orig_nbformat": 4,
  "vscode": {
   "interpreter": {
    "hash": "916dbcbb3f70747c44a77c7bcd40155683ae19c65e1c03b4aa3499c5328201f1"
   }
  }
 },
 "nbformat": 4,
 "nbformat_minor": 2
}
