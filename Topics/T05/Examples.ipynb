{
 "cells": [
  {
   "cell_type": "markdown",
   "metadata": {},
   "source": [
    "# Exemplos de aulas"
   ]
  },
  {
   "cell_type": "markdown",
   "metadata": {},
   "source": [
    "### Inferência Estatística"
   ]
  },
  {
   "cell_type": "markdown",
   "metadata": {},
   "source": [
    "A quantidade de tempo, em minutos, que um passageiro gasta esperando na fila de checkin de um aeroporto é uma variável aleatória com média e variância desconhecidos e distribuição normal.\n",
    "\n",
    "Supona que uma amostra aleatória de 10 passageiros foi observada, em que os tempos foram: t = [10, 9, 11, 8.5, 7.1, 9, 9.5, 8, 10, 7.8]\n",
    "\n",
    "1. Encontre a estimativa da média e variância.\n",
    "\n",
    "2. Essas estimativas são não viciadas?"
   ]
  },
  {
   "cell_type": "code",
   "execution_count": 4,
   "metadata": {},
   "outputs": [],
   "source": [
    "import  numpy as np\n",
    "\n",
    "class PointEstimation:\n",
    "  def __init__(self, X: list) -> None:\n",
    "    self.X = X\n",
    "    self.N = len(X)\n",
    "\n",
    "  def binomialP(self) -> float:\n",
    "    return np.sum(self.X) / self.N\n",
    "\n",
    "  def poissonMu(self) -> float:\n",
    "    return np.sum(self.X) / self.N\n",
    "\n",
    "  def exponentialLambda(self) -> float:\n",
    "    return 1 / (np.sum(self.X) / self.N)\n",
    "\n",
    "  def normalMu(self) -> float:\n",
    "    return np.sum(self.X) / self.N\n",
    "\n",
    "  def normalVariance(self) -> float:\n",
    "    mu = self.normalMu()\n",
    "    sumSqr = np.sum([(x - mu)**2 for x in self.X])\n",
    "    return (1 / (self.N - 1)) * sumSqr\n",
    "\n"
   ]
  },
  {
   "cell_type": "code",
   "execution_count": 6,
   "metadata": {},
   "outputs": [
    {
     "name": "stdout",
     "output_type": "stream",
     "text": [
      "8.989999999999998\n",
      "1.3943333333333332\n"
     ]
    }
   ],
   "source": [
    "t = [10, 9, 11, 8.5, 7.1, 9, 9.5, 8, 10, 7.8]\n",
    "PE = PointEstimation(t)\n",
    "\n",
    "mu = PE.normalMu()\n",
    "var = PE.normalVariance()\n",
    "\n",
    "print(mu)\n",
    "print(var)"
   ]
  },
  {
   "cell_type": "code",
   "execution_count": null,
   "metadata": {},
   "outputs": [],
   "source": []
  }
 ],
 "metadata": {
  "kernelspec": {
   "display_name": "Python 3.10.6 64-bit",
   "language": "python",
   "name": "python3"
  },
  "language_info": {
   "codemirror_mode": {
    "name": "ipython",
    "version": 3
   },
   "file_extension": ".py",
   "mimetype": "text/x-python",
   "name": "python",
   "nbconvert_exporter": "python",
   "pygments_lexer": "ipython3",
   "version": "3.10.6"
  },
  "orig_nbformat": 4,
  "vscode": {
   "interpreter": {
    "hash": "916dbcbb3f70747c44a77c7bcd40155683ae19c65e1c03b4aa3499c5328201f1"
   }
  }
 },
 "nbformat": 4,
 "nbformat_minor": 2
}
