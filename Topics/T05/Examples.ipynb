{
 "cells": [
  {
   "cell_type": "markdown",
   "metadata": {},
   "source": [
    "# Exemplos de aulas"
   ]
  },
  {
   "cell_type": "markdown",
   "metadata": {},
   "source": [
    "### Inferência Estatística"
   ]
  },
  {
   "cell_type": "markdown",
   "metadata": {},
   "source": [
    "A quantidade de tempo, em minutos, que um passageiro gasta esperando na fila de checkin de um aeroporto é uma variável aleatória com média e variância desconhecidos e distribuição normal.\n",
    "\n",
    "Supona que uma amostra aleatória de 10 passageiros foi observada, em que os tempos foram: t = [10, 9, 11, 8.5, 7.1, 9, 9.5, 8, 10, 7.8]\n",
    "\n",
    "1. Encontre a estimativa da média e variância.\n",
    "\n",
    "2. Essas estimativas são não viciadas?"
   ]
  },
  {
   "cell_type": "code",
   "execution_count": 1,
   "metadata": {},
   "outputs": [],
   "source": [
    "import  numpy as np\n",
    "from scipy import integrate, special\n",
    "import matplotlib.pyplot as plt"
   ]
  },
  {
   "cell_type": "code",
   "execution_count": 25,
   "metadata": {},
   "outputs": [],
   "source": [
    "class PointEstimation:\n",
    "  def __init__(self, X: list) -> None:\n",
    "    self.X = X\n",
    "    self.N = len(X)\n",
    "\n",
    "  def uniformMu(self, a: float, b: float) -> float:\n",
    "    return (b + a) / 2\n",
    "\n",
    "  def uniformVariance(self, a: float, b: float) -> float:\n",
    "    return ((b - a) ** 2) / 12\n",
    "\n",
    "  def binomialP(self) -> float:\n",
    "    return np.sum(self.X) / self.N\n",
    "\n",
    "  def poissonMu(self) -> float:\n",
    "    return np.sum(self.X) / self.N\n",
    "\n",
    "  def exponentialLambda(self) -> float:\n",
    "    return 1 / (np.sum(self.X) / self.N)\n",
    "\n",
    "  def normalMu(self) -> float:\n",
    "    return np.sum(self.X) / self.N\n",
    "\n",
    "  def normalVariance(self) -> float:\n",
    "    mu = self.normalMu()\n",
    "    sumSqr = np.sum([(x - mu)**2 for x in self.X])\n",
    "    return (1 / (self.N - 1)) * sumSqr"
   ]
  },
  {
   "cell_type": "code",
   "execution_count": 26,
   "metadata": {},
   "outputs": [
    {
     "name": "stdout",
     "output_type": "stream",
     "text": [
      "8.989999999999998\n",
      "1.3943333333333332\n"
     ]
    }
   ],
   "source": [
    "t = [10, 9, 11, 8.5, 7.1, 9, 9.5, 8, 10, 7.8]\n",
    "PE = PointEstimation(t)\n",
    "\n",
    "mu = PE.normalMu()\n",
    "var = PE.normalVariance()\n",
    "\n",
    "print(mu)\n",
    "print(var)"
   ]
  },
  {
   "cell_type": "markdown",
   "metadata": {},
   "source": [
    "#### Distribuições amostrais e Teorema Central Do Limite"
   ]
  },
  {
   "cell_type": "code",
   "execution_count": 10,
   "metadata": {},
   "outputs": [],
   "source": [
    "class SampleDistribution:\n",
    "  def __init__(self, N: int, mu: float = 0, sigmaSqr: float = 0) -> None:\n",
    "    self.N = N\n",
    "    self.mu = mu\n",
    "    self.sigmaSqr = sigmaSqr\n",
    "\n",
    "  def CLTsampleZ(self, x: float) -> float:\n",
    "    normalFactor = 1/(np.sqrt(2 * self.sigmaSqr * np.pi))\n",
    "    expFactor = np.exp(-(1/2) * (((x - self.mu) ** 2) / self.sigmaSqr))\n",
    "    return normalFactor * expFactor\n",
    "\n",
    "  def sampleStudentT(self, x: float) -> float:\n",
    "    gammaNum = special.gamma((self.N + 1) / 2)\n",
    "    gammaDenom = special.gamma(self.N / 2) * np.sqrt(np.pi * self.N)\n",
    "    return (gammaNum / gammaDenom) * (1 + ((x ** 2) / self.N)) ** (-(self.N + 1) / 2)\n",
    "  \n",
    "  def sampleQuiSqr(self, x: float) -> float:\n",
    "    if x < 0: return 0\n",
    "    gammaDenom = special.gamma(self.N / 2) * (2 ** (self.N / 2))\n",
    "    return (1/gammaDenom) * (x ** ((self.N / 2) - 1)) * np.exp(-(x/2))\n",
    "\n",
    "  "
   ]
  },
  {
   "cell_type": "code",
   "execution_count": 58,
   "metadata": {},
   "outputs": [
    {
     "data": {
      "text/plain": [
       "0.19947114020071635"
      ]
     },
     "execution_count": 58,
     "metadata": {},
     "output_type": "execute_result"
    }
   ],
   "source": [
    "N = 48\n",
    "SD = SampleDistribution(N=N, mu=0*N, sigmaSqr=(1/12)*N)\n",
    "SD.CLTsampleZ(0)"
   ]
  },
  {
   "cell_type": "markdown",
   "metadata": {},
   "source": [
    "Após arredondamento par ao inteiro mais próximo, 48 números são somados. Os erros de arredondamento individuais são uniformemente distribuídos no intervalo (-0.5, 0.5). \n",
    "\n",
    "Qual a probabilidade de que a soma dos números arredondados seja diferente da verdadeira soma por mais de 3 unidades (em ambos os sentidos)?"
   ]
  },
  {
   "cell_type": "code",
   "execution_count": 60,
   "metadata": {},
   "outputs": [
    {
     "name": "stdout",
     "output_type": "stream",
     "text": [
      "0.0 0.08333333333333333\n",
      "0.13361440253770968\n"
     ]
    }
   ],
   "source": [
    "X = [-0.5, 0.5]\n",
    "PE = PointEstimation(X)\n",
    "mu = PE.uniformMu(X[0], X[1])\n",
    "var = PE.uniformVariance(X[0], X[1])\n",
    "print(mu, var)\n",
    "\n",
    "N = 48\n",
    "SD = SampleDistribution(N=N, mu=mu*N, sigmaSqr=var*N)\n",
    "Z = integrate.quad(SD.CLTsampleZ, -np.inf, -3)[0] + integrate.quad(SD.CLTsampleZ, 3, np.inf)[0]\n",
    "print(Z)"
   ]
  },
  {
   "cell_type": "markdown",
   "metadata": {},
   "source": [
    "Calcular a probabilidade $P(T > 2.201)$ em uma amostra de tamanho $n = 12$ (Distribuição T de Student)"
   ]
  },
  {
   "cell_type": "code",
   "execution_count": 61,
   "metadata": {},
   "outputs": [
    {
     "name": "stdout",
     "output_type": "stream",
     "text": [
      "0.024999351976208672\n"
     ]
    }
   ],
   "source": [
    "n = 12\n",
    "SD = SampleDistribution(N=n-1)\n",
    "T = integrate.quad(SD.sampleStudentT, 2.201, np.inf)[0]\n",
    "print(T)"
   ]
  },
  {
   "cell_type": "markdown",
   "metadata": {},
   "source": [
    "Suponha que queremos determinar a proporção de sucessos $p$ de uma certa população. Logo, podemos definir uma variável aleatória de Bernoulli.\n",
    "\n",
    "Assim, $\\mu = E[X] = p$ e $\\sigma^2 = Var[X] = p q = p (1 - p)$"
   ]
  },
  {
   "cell_type": "markdown",
   "metadata": {},
   "source": [
    "O presidente de uma distribuidora acredita que 30\\% das encomendas feitas na firma são provenientes de clientes que compram pela primeira vez. Suponha que o presidente esteja correto.\n",
    "\n",
    "Uma amostra aleatória simples de 100 pedidos será usado para estimar a proporço de clientes que compram pela primeira vez.\n",
    "\n",
    "1. Qual a distribuição amostral das proporções amostrais?\n",
    "\n",
    "2. Qual a probabilidade da proporção amostral estar no intervalo (0.2, 0.4)?"
   ]
  },
  {
   "cell_type": "code",
   "execution_count": 65,
   "metadata": {},
   "outputs": [
    {
     "name": "stdout",
     "output_type": "stream",
     "text": [
      "0.1727406534372887\n"
     ]
    },
    {
     "data": {
      "image/png": "[encoded data removed]",
      "text/plain": [
       "<Figure size 640x480 with 1 Axes>"
      ]
     },
     "metadata": {},
     "output_type": "display_data"
    }
   ],
   "source": [
    "mu = 0.3\n",
    "var = 0.3 * (1 - mu)\n",
    "N = 100\n",
    "\n",
    "SD = SampleDistribution(N=N, mu=mu, sigmaSqr=var)\n",
    "Z = integrate.quad(SD.CLTsampleZ, 0.2, 0.4)[0]\n",
    "print(Z)\n",
    "\n",
    "t = np.arange(-2, 2, 0.01)\n",
    "plt.plot(t, [SD.CLTsampleZ(i) for i in t], 'b-')\n",
    "plt.show()"
   ]
  },
  {
   "cell_type": "markdown",
   "metadata": {},
   "source": [
    "Calcule a probabilidade da estatística Q assumir um valor maior do que 20.48 quando $n = 11$"
   ]
  },
  {
   "cell_type": "code",
   "execution_count": 71,
   "metadata": {},
   "outputs": [
    {
     "name": "stdout",
     "output_type": "stream",
     "text": [
      "0.025025979934502042\n"
     ]
    },
    {
     "data": {
      "image/png": "[encoded data removed]",
      "text/plain": [
       "<Figure size 640x480 with 1 Axes>"
      ]
     },
     "metadata": {},
     "output_type": "display_data"
    }
   ],
   "source": [
    "n = 11\n",
    "mu = n\n",
    "var = 2 * n\n",
    "\n",
    "SD = SampleDistribution(N=n-1, mu=mu, sigmaSqr=var)\n",
    "Q = integrate.quad(SD.sampleQuiSqr, 20.48, np.inf)[0]\n",
    "print(Q)\n",
    "\n",
    "t = np.arange(0, 30, 0.01)\n",
    "plt.plot(t, [SD.sampleQuiSqr(i) for i in t], 'b-')\n",
    "plt.show()"
   ]
  },
  {
   "cell_type": "markdown",
   "metadata": {},
   "source": [
    "#### Intervalos de Confiança"
   ]
  },
  {
   "cell_type": "code",
   "execution_count": 97,
   "metadata": {},
   "outputs": [],
   "source": [
    "class ConfidenceInterval:\n",
    "  def __init__(self, N: int = 0, sampleMu: float = 0, sampleSigma: float = 1, confidenceCoeff: float = 0.95) -> None:\n",
    "    self.N = N\n",
    "    self.sampleSigma = sampleSigma\n",
    "    self.sampleMu = sampleMu\n",
    "    self.confidenceCoeff = confidenceCoeff\n",
    "    self.SD = SampleDistribution(N=N, mu=0, sigmaSqr=1)\n",
    "\n",
    "  def zScore(self) -> float:\n",
    "    t0 = -5\n",
    "    dt = 0.001\n",
    "    cumSum = 0\n",
    "    while cumSum < (1 - self.confidenceCoeff) / 2:\n",
    "      I = integrate.quad(self.SD.CLTsampleZ, t0, t0+dt)[0]\n",
    "      cumSum += I\n",
    "      t0 += dt\n",
    "    return t0\n",
    "  \n",
    "  def confidenceLimit(self) -> float:\n",
    "    zScore = self.zScore()\n",
    "    return abs(zScore * self.sampleSigma / np.sqrt(self.N))\n",
    "\n",
    "  def sampleSizeEstimation(self, maxError: float) -> float:\n",
    "    zScore = self.zScore()\n",
    "    return ((zScore * self.sampleSigma / maxError) ** 2)\n"
   ]
  },
  {
   "cell_type": "markdown",
   "metadata": {},
   "source": [
    "Em uma fábrica de cerveja a quantidade de cerveja em latas seguia uma distribuição normal com média 350 ml e desvio padrão 3ml. Após alguns problemas na linha de produção, suspeita-se que houve alteração na média. Uma amostra de 20 latas forneceu uma média de 346 ml. Obtenha um intervalo de 95\\% para a quantidade média de cerveja envasada supondo que não tenha ocorrido alteração na variabilidade."
   ]
  },
  {
   "cell_type": "code",
   "execution_count": 92,
   "metadata": {},
   "outputs": [
    {
     "name": "stdout",
     "output_type": "stream",
     "text": [
      "1.3141371503765533\n",
      "344.68586284962345 347.31413715037655\n"
     ]
    }
   ],
   "source": [
    "sampleMu = 346\n",
    "N = 20\n",
    "sigma = 3\n",
    "confidenceCoeff = 0.95\n",
    "\n",
    "CI = ConfidenceInterval(N=N, sampleSigma=sigma, confidenceCoeff=confidenceCoeff)\n",
    "L = CI.confidenceLimit()\n",
    "print(L)\n",
    "print(sampleMu - L, sampleMu + L)"
   ]
  },
  {
   "cell_type": "markdown",
   "metadata": {},
   "source": [
    "Em uma siderúrgica estuda-se a resistência média de barras de aço utilizadas na construção civil. Qual o tamanho amostral necessário para garantir que um erro máximo de 8kg seja superado com probabilidade igual a 0.01? \n",
    "\n",
    "O desvio padrão da resistência para este tipo de barra é de 25 kg"
   ]
  },
  {
   "cell_type": "code",
   "execution_count": 101,
   "metadata": {},
   "outputs": [
    {
     "name": "stdout",
     "output_type": "stream",
     "text": [
      "64.7521972656161\n"
     ]
    }
   ],
   "source": [
    "maxError = 8\n",
    "confidenceCoeff = 0.99\n",
    "stdDev = 25\n",
    "\n",
    "CI = ConfidenceInterval(confidenceCoeff=confidenceCoeff, sampleSigma=stdDev)\n",
    "n = CI.sampleSizeEstimation(maxError=maxError)\n",
    "print(n)"
   ]
  },
  {
   "cell_type": "code",
   "execution_count": null,
   "metadata": {},
   "outputs": [],
   "source": []
  }
 ],
 "metadata": {
  "kernelspec": {
   "display_name": "Python 3.10.6 64-bit",
   "language": "python",
   "name": "python3"
  },
  "language_info": {
   "codemirror_mode": {
    "name": "ipython",
    "version": 3
   },
   "file_extension": ".py",
   "mimetype": "text/x-python",
   "name": "python",
   "nbconvert_exporter": "python",
   "pygments_lexer": "ipython3",
   "version": "3.10.6"
  },
  "orig_nbformat": 4,
  "vscode": {
   "interpreter": {
    "hash": "916dbcbb3f70747c44a77c7bcd40155683ae19c65e1c03b4aa3499c5328201f1"
   }
  }
 },
 "nbformat": 4,
 "nbformat_minor": 2
}
