{
 "cells": [
  {
   "cell_type": "markdown",
   "metadata": {},
   "source": [
    "## Lista 05 - Estimação Pontual e Intervalo de Confiança"
   ]
  },
  {
   "cell_type": "code",
   "execution_count": 6,
   "metadata": {},
   "outputs": [],
   "source": [
    "import numpy as np\n",
    "from scipy import integrate, special\n",
    "import matplotlib.pyplot as plt"
   ]
  },
  {
   "cell_type": "code",
   "execution_count": 15,
   "metadata": {},
   "outputs": [],
   "source": [
    "def normalDistribution(x: float, mu: float, sigma: float) -> float:\n",
    "  normalFactor = 1/(sigma * np.sqrt(2 * np.pi))\n",
    "  expFactor = np.exp(-(1/2) * (((x - mu) / sigma) ** 2))\n",
    "  return normalFactor * expFactor"
   ]
  },
  {
   "cell_type": "code",
   "execution_count": 43,
   "metadata": {},
   "outputs": [],
   "source": [
    "def binomialDistribution(x: float, n: float, p: float) -> float:\n",
    "  k = x * n\n",
    "  return (special.binom(n, k)) * (np.math.pow(p, k)) * (np.math.pow(1-p, n-k))"
   ]
  },
  {
   "cell_type": "code",
   "execution_count": 44,
   "metadata": {},
   "outputs": [
    {
     "name": "stdout",
     "output_type": "stream",
     "text": [
      "62.99999999999999\n"
     ]
    },
    {
     "ename": "OverflowError",
     "evalue": "math range error",
     "output_type": "error",
     "traceback": [
      "\u001b[0;31m---------------------------------------------------------------------------\u001b[0m",
      "\u001b[0;31mOverflowError\u001b[0m                             Traceback (most recent call last)",
      "Cell \u001b[0;32mIn [44], line 9\u001b[0m\n\u001b[1;32m      7\u001b[0m prob \u001b[39m=\u001b[39m \u001b[39m0.9\u001b[39m \u001b[39m*\u001b[39m n \u001b[39m*\u001b[39m p\n\u001b[1;32m      8\u001b[0m \u001b[39mprint\u001b[39m(prob)\n\u001b[0;32m----> 9\u001b[0m a \u001b[39m=\u001b[39m integrate\u001b[39m.\u001b[39;49mquad(binomialDistribution, \u001b[39m0\u001b[39;49m, prob, args\u001b[39m=\u001b[39;49m(n, p))\n\u001b[1;32m     10\u001b[0m \u001b[39mprint\u001b[39m(a)\n\u001b[1;32m     12\u001b[0m t \u001b[39m=\u001b[39m np\u001b[39m.\u001b[39marange(\u001b[39m-\u001b[39m\u001b[39m2\u001b[39m, \u001b[39m2\u001b[39m, \u001b[39m0.01\u001b[39m)\n",
      "File \u001b[0;32m~/.local/lib/python3.10/site-packages/scipy/integrate/_quadpack_py.py:411\u001b[0m, in \u001b[0;36mquad\u001b[0;34m(func, a, b, args, full_output, epsabs, epsrel, limit, points, weight, wvar, wopts, maxp1, limlst)\u001b[0m\n\u001b[1;32m    408\u001b[0m flip, a, b \u001b[39m=\u001b[39m b \u001b[39m<\u001b[39m a, \u001b[39mmin\u001b[39m(a, b), \u001b[39mmax\u001b[39m(a, b)\n\u001b[1;32m    410\u001b[0m \u001b[39mif\u001b[39;00m weight \u001b[39mis\u001b[39;00m \u001b[39mNone\u001b[39;00m:\n\u001b[0;32m--> 411\u001b[0m     retval \u001b[39m=\u001b[39m _quad(func, a, b, args, full_output, epsabs, epsrel, limit,\n\u001b[1;32m    412\u001b[0m                    points)\n\u001b[1;32m    413\u001b[0m \u001b[39melse\u001b[39;00m:\n\u001b[1;32m    414\u001b[0m     \u001b[39mif\u001b[39;00m points \u001b[39mis\u001b[39;00m \u001b[39mnot\u001b[39;00m \u001b[39mNone\u001b[39;00m:\n",
      "File \u001b[0;32m~/.local/lib/python3.10/site-packages/scipy/integrate/_quadpack_py.py:523\u001b[0m, in \u001b[0;36m_quad\u001b[0;34m(func, a, b, args, full_output, epsabs, epsrel, limit, points)\u001b[0m\n\u001b[1;32m    521\u001b[0m \u001b[39mif\u001b[39;00m points \u001b[39mis\u001b[39;00m \u001b[39mNone\u001b[39;00m:\n\u001b[1;32m    522\u001b[0m     \u001b[39mif\u001b[39;00m infbounds \u001b[39m==\u001b[39m \u001b[39m0\u001b[39m:\n\u001b[0;32m--> 523\u001b[0m         \u001b[39mreturn\u001b[39;00m _quadpack\u001b[39m.\u001b[39;49m_qagse(func,a,b,args,full_output,epsabs,epsrel,limit)\n\u001b[1;32m    524\u001b[0m     \u001b[39melse\u001b[39;00m:\n\u001b[1;32m    525\u001b[0m         \u001b[39mreturn\u001b[39;00m _quadpack\u001b[39m.\u001b[39m_qagie(func,bound,infbounds,args,full_output,epsabs,epsrel,limit)\n",
      "Cell \u001b[0;32mIn [43], line 3\u001b[0m, in \u001b[0;36mbinomialDistribution\u001b[0;34m(x, n, p)\u001b[0m\n\u001b[1;32m      1\u001b[0m \u001b[39mdef\u001b[39;00m \u001b[39mbinomialDistribution\u001b[39m(x: \u001b[39mfloat\u001b[39m, n: \u001b[39mfloat\u001b[39m, p: \u001b[39mfloat\u001b[39m) \u001b[39m-\u001b[39m\u001b[39m>\u001b[39m \u001b[39mfloat\u001b[39m:\n\u001b[1;32m      2\u001b[0m   k \u001b[39m=\u001b[39m x \u001b[39m*\u001b[39m n\n\u001b[0;32m----> 3\u001b[0m   \u001b[39mreturn\u001b[39;00m (special\u001b[39m.\u001b[39mbinom(n, k)) \u001b[39m*\u001b[39m (np\u001b[39m.\u001b[39mmath\u001b[39m.\u001b[39mpow(p, k)) \u001b[39m*\u001b[39m (np\u001b[39m.\u001b[39;49mmath\u001b[39m.\u001b[39;49mpow(\u001b[39m1\u001b[39;49m\u001b[39m-\u001b[39;49mp, n\u001b[39m-\u001b[39;49mk))\n",
      "\u001b[0;31mOverflowError\u001b[0m: math range error"
     ]
    }
   ],
   "source": [
    "p = 0.7\n",
    "n = 100\n",
    "\n",
    "t0 = -3\n",
    "dt = 0.01\n",
    "cumSum = 0\n",
    "prob = 0.9 * n * p\n",
    "print(prob)\n",
    "a = integrate.quad(binomialDistribution, 0, prob, args=(n, p))\n",
    "print(a)\n",
    "\n",
    "t = np.arange(-2, 2, 0.01)\n",
    "plt.plot(t, [binomialDistribution(i, n, p) for i in t])\n",
    "plt.show()\n",
    "\n"
   ]
  },
  {
   "cell_type": "markdown",
   "metadata": {},
   "source": []
  }
 ],
 "metadata": {
  "kernelspec": {
   "display_name": "Python 3.10.6 64-bit",
   "language": "python",
   "name": "python3"
  },
  "language_info": {
   "codemirror_mode": {
    "name": "ipython",
    "version": 3
   },
   "file_extension": ".py",
   "mimetype": "text/x-python",
   "name": "python",
   "nbconvert_exporter": "python",
   "pygments_lexer": "ipython3",
   "version": "3.10.6"
  },
  "orig_nbformat": 4,
  "vscode": {
   "interpreter": {
    "hash": "916dbcbb3f70747c44a77c7bcd40155683ae19c65e1c03b4aa3499c5328201f1"
   }
  }
 },
 "nbformat": 4,
 "nbformat_minor": 2
}
