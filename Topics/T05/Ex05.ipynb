{
  "cells": [
    {
      "cell_type": "markdown",
      "metadata": {
        "id": "k6Md1KWtygEx"
      },
      "source": [
        "## Lista 05 - Estimação Pontual e Intervalo de Confiança"
      ]
    },
    {
      "cell_type": "code",
      "execution_count": null,
      "metadata": {
        "id": "-Z-UbxzcygE1"
      },
      "outputs": [],
      "source": [
        "import matplotlib.pyplot as plt\n",
        "import numpy as np\n",
        "import pandas as pd\n",
        "from scipy import integrate, special, stats\n",
        "import seaborn as sns"
      ]
    },
    {
      "cell_type": "markdown",
      "source": [
        "## Prova 5"
      ],
      "metadata": {
        "id": "bQ0yglZ2ynTa"
      }
    },
    {
      "cell_type": "markdown",
      "source": [
        "#### Questão 1"
      ],
      "metadata": {
        "id": "ojuUDX0Vyqmx"
      }
    },
    {
      "cell_type": "code",
      "source": [
        "## ERRADO: deveria ser normal ao inves de distribuicao t\n",
        "\n",
        "p = 0.45\n",
        "mu = p\n",
        "n = 70\n",
        "s = np.sqrt(n-1)/np.sqrt(n-3)\n",
        "\n",
        "limLow = (0.33 - p) * np.sqrt(n) / s\n",
        "limSup = (0.55 - p) * np.sqrt(n) / s\n",
        "\n",
        "qLow = stats.t.cdf(limLow, n-1)\n",
        "qSup = stats.t.cdf(limSup, n-1)\n",
        "\n",
        "p = qSup - qLow\n",
        "print(p)"
      ],
      "metadata": {
        "id": "x_Ny4K4OyqLh",
        "outputId": "0209b425-9ec3-4d65-ad28-a6309c7b83d3",
        "colab": {
          "base_uri": "https://localhost:8080/"
        }
      },
      "execution_count": null,
      "outputs": [
        {
          "output_type": "stream",
          "name": "stdout",
          "text": [
            "0.6307581175867847\n"
          ]
        }
      ]
    },
    {
      "cell_type": "markdown",
      "source": [
        "#### Questão 2"
      ],
      "metadata": {
        "id": "OhiMl8Rm4gbR"
      }
    },
    {
      "cell_type": "code",
      "source": [
        "df = pd.read_csv('/P5_Questao2.csv')\n",
        "df.head()"
      ],
      "metadata": {
        "id": "ZNCvbplW4hnp",
        "outputId": "bc249997-3d21-44db-890d-786a1595e002",
        "colab": {
          "base_uri": "https://localhost:8080/",
          "height": 206
        }
      },
      "execution_count": null,
      "outputs": [
        {
          "output_type": "execute_result",
          "data": {
            "text/plain": [
              "      x\n",
              "0  3.26\n",
              "1  3.27\n",
              "2  3.23\n",
              "3  3.11\n",
              "4  7.64"
            ],
            "text/html": [
              "\n",
              "  <div id=\"df-ec905c26-2801-4ee8-a712-fe36d292139c\">\n",
              "    <div class=\"colab-df-container\">\n",
              "      <div>\n",
              "<style scoped>\n",
              "    .dataframe tbody tr th:only-of-type {\n",
              "        vertical-align: middle;\n",
              "    }\n",
              "\n",
              "    .dataframe tbody tr th {\n",
              "        vertical-align: top;\n",
              "    }\n",
              "\n",
              "    .dataframe thead th {\n",
              "        text-align: right;\n",
              "    }\n",
              "</style>\n",
              "<table border=\"1\" class=\"dataframe\">\n",
              "  <thead>\n",
              "    <tr style=\"text-align: right;\">\n",
              "      <th></th>\n",
              "      <th>x</th>\n",
              "    </tr>\n",
              "  </thead>\n",
              "  <tbody>\n",
              "    <tr>\n",
              "      <th>0</th>\n",
              "      <td>3.26</td>\n",
              "    </tr>\n",
              "    <tr>\n",
              "      <th>1</th>\n",
              "      <td>3.27</td>\n",
              "    </tr>\n",
              "    <tr>\n",
              "      <th>2</th>\n",
              "      <td>3.23</td>\n",
              "    </tr>\n",
              "    <tr>\n",
              "      <th>3</th>\n",
              "      <td>3.11</td>\n",
              "    </tr>\n",
              "    <tr>\n",
              "      <th>4</th>\n",
              "      <td>7.64</td>\n",
              "    </tr>\n",
              "  </tbody>\n",
              "</table>\n",
              "</div>\n",
              "      <button class=\"colab-df-convert\" onclick=\"convertToInteractive('df-ec905c26-2801-4ee8-a712-fe36d292139c')\"\n",
              "              title=\"Convert this dataframe to an interactive table.\"\n",
              "              style=\"display:none;\">\n",
              "        \n",
              "  <svg xmlns=\"http://www.w3.org/2000/svg\" height=\"24px\"viewBox=\"0 0 24 24\"\n",
              "       width=\"24px\">\n",
              "    <path d=\"M0 0h24v24H0V0z\" fill=\"none\"/>\n",
              "    <path d=\"M18.56 5.44l.94 2.06.94-2.06 2.06-.94-2.06-.94-.94-2.06-.94 2.06-2.06.94zm-11 1L8.5 8.5l.94-2.06 2.06-.94-2.06-.94L8.5 2.5l-.94 2.06-2.06.94zm10 10l.94 2.06.94-2.06 2.06-.94-2.06-.94-.94-2.06-.94 2.06-2.06.94z\"/><path d=\"M17.41 7.96l-1.37-1.37c-.4-.4-.92-.59-1.43-.59-.52 0-1.04.2-1.43.59L10.3 9.45l-7.72 7.72c-.78.78-.78 2.05 0 2.83L4 21.41c.39.39.9.59 1.41.59.51 0 1.02-.2 1.41-.59l7.78-7.78 2.81-2.81c.8-.78.8-2.07 0-2.86zM5.41 20L4 18.59l7.72-7.72 1.47 1.35L5.41 20z\"/>\n",
              "  </svg>\n",
              "      </button>\n",
              "      \n",
              "  <style>\n",
              "    .colab-df-container {\n",
              "      display:flex;\n",
              "      flex-wrap:wrap;\n",
              "      gap: 12px;\n",
              "    }\n",
              "\n",
              "    .colab-df-convert {\n",
              "      background-color: #E8F0FE;\n",
              "      border: none;\n",
              "      border-radius: 50%;\n",
              "      cursor: pointer;\n",
              "      display: none;\n",
              "      fill: #1967D2;\n",
              "      height: 32px;\n",
              "      padding: 0 0 0 0;\n",
              "      width: 32px;\n",
              "    }\n",
              "\n",
              "    .colab-df-convert:hover {\n",
              "      background-color: #E2EBFA;\n",
              "      box-shadow: 0px 1px 2px rgba(60, 64, 67, 0.3), 0px 1px 3px 1px rgba(60, 64, 67, 0.15);\n",
              "      fill: #174EA6;\n",
              "    }\n",
              "\n",
              "    [theme=dark] .colab-df-convert {\n",
              "      background-color: #3B4455;\n",
              "      fill: #D2E3FC;\n",
              "    }\n",
              "\n",
              "    [theme=dark] .colab-df-convert:hover {\n",
              "      background-color: #434B5C;\n",
              "      box-shadow: 0px 1px 3px 1px rgba(0, 0, 0, 0.15);\n",
              "      filter: drop-shadow(0px 1px 2px rgba(0, 0, 0, 0.3));\n",
              "      fill: #FFFFFF;\n",
              "    }\n",
              "  </style>\n",
              "\n",
              "      <script>\n",
              "        const buttonEl =\n",
              "          document.querySelector('#df-ec905c26-2801-4ee8-a712-fe36d292139c button.colab-df-convert');\n",
              "        buttonEl.style.display =\n",
              "          google.colab.kernel.accessAllowed ? 'block' : 'none';\n",
              "\n",
              "        async function convertToInteractive(key) {\n",
              "          const element = document.querySelector('#df-ec905c26-2801-4ee8-a712-fe36d292139c');\n",
              "          const dataTable =\n",
              "            await google.colab.kernel.invokeFunction('convertToInteractive',\n",
              "                                                     [key], {});\n",
              "          if (!dataTable) return;\n",
              "\n",
              "          const docLinkHtml = 'Like what you see? Visit the ' +\n",
              "            '<a target=\"_blank\" href=https://colab.research.google.com/notebooks/data_table.ipynb>data table notebook</a>'\n",
              "            + ' to learn more about interactive tables.';\n",
              "          element.innerHTML = '';\n",
              "          dataTable['output_type'] = 'display_data';\n",
              "          await google.colab.output.renderOutput(dataTable, element);\n",
              "          const docLink = document.createElement('div');\n",
              "          docLink.innerHTML = docLinkHtml;\n",
              "          element.appendChild(docLink);\n",
              "        }\n",
              "      </script>\n",
              "    </div>\n",
              "  </div>\n",
              "  "
            ]
          },
          "metadata": {},
          "execution_count": 6
        }
      ]
    },
    {
      "cell_type": "code",
      "source": [
        "sns.histplot(data=df, x='x')\n",
        "plt.show()"
      ],
      "metadata": {
        "id": "HivDPn3241pR",
        "outputId": "6289a5a5-6695-4b86-d757-03dea68850f2",
        "colab": {
          "base_uri": "https://localhost:8080/",
          "height": 279
        }
      },
      "execution_count": null,
      "outputs": [
        {
          "output_type": "display_data",
          "data": {
            "text/plain": [
              "<Figure size 432x288 with 1 Axes>"
            ],
            "image/png": "[encoded data removed]"
          },
          "metadata": {
            "needs_background": "light"
          }
        }
      ]
    },
    {
      "cell_type": "code",
      "source": [
        "sns.boxplot(data=df, x='x')\n",
        "plt.show()"
      ],
      "metadata": {
        "id": "ZVTQbO9b4424",
        "outputId": "fd2a9824-b30f-4fbf-932d-3029d7fcf13d",
        "colab": {
          "base_uri": "https://localhost:8080/",
          "height": 279
        }
      },
      "execution_count": null,
      "outputs": [
        {
          "output_type": "display_data",
          "data": {
            "text/plain": [
              "<Figure size 432x288 with 1 Axes>"
            ],
            "image/png": "[encoded data removed]"
          },
          "metadata": {
            "needs_background": "light"
          }
        }
      ]
    },
    {
      "cell_type": "code",
      "source": [
        "p1 = df['x'].quantile(0.25)\n",
        "p2 = df['x'].quantile(0.75)\n",
        "print(p1, p2)"
      ],
      "metadata": {
        "id": "yCQEo7EL5GDR",
        "outputId": "7e0e92fc-0048-4a19-d928-2313eaa7e180",
        "colab": {
          "base_uri": "https://localhost:8080/"
        }
      },
      "execution_count": null,
      "outputs": [
        {
          "output_type": "stream",
          "name": "stdout",
          "text": [
            "3.205 4.345000000000001\n"
          ]
        }
      ]
    },
    {
      "cell_type": "code",
      "source": [
        "pm = df['x'].quantile(0.5)\n",
        "print(pm)"
      ],
      "metadata": {
        "id": "JwM4lWDO5lK6",
        "outputId": "1bdef3d8-4761-44d6-d465-81e5aa75cc7c",
        "colab": {
          "base_uri": "https://localhost:8080/"
        }
      },
      "execution_count": null,
      "outputs": [
        {
          "output_type": "stream",
          "name": "stdout",
          "text": [
            "3.3\n"
          ]
        }
      ]
    },
    {
      "cell_type": "markdown",
      "source": [
        "#### Questão 3"
      ],
      "metadata": {
        "id": "gHA5R21w44qp"
      }
    },
    {
      "cell_type": "code",
      "source": [
        "s = 0.42\n",
        "n = 20\n",
        "m = 70.05\n",
        "a = 0.95\n",
        "a2 = (1 - a)/2\n",
        "print(a2)\n",
        "\n",
        "z = stats.norm.ppf(a2)\n",
        "E = z * (s / np.sqrt(n))\n",
        "\n",
        "IC = [m - E, m + E]\n",
        "print(IC)"
      ],
      "metadata": {
        "id": "dlmdR5dI6BsY",
        "outputId": "36319374-bcad-4af6-eb99-b03be20dcf59",
        "colab": {
          "base_uri": "https://localhost:8080/"
        }
      },
      "execution_count": null,
      "outputs": [
        {
          "output_type": "stream",
          "name": "stdout",
          "text": [
            "0.025000000000000022\n",
            "[70.23406973352108, 69.86593026647891]\n"
          ]
        }
      ]
    },
    {
      "cell_type": "markdown",
      "source": [
        "#### Questão 4"
      ],
      "metadata": {
        "id": "7cdCxd8r7AJJ"
      }
    },
    {
      "cell_type": "code",
      "source": [
        "n = 660\n",
        "f = 0.74 # Estimativa para p\n",
        "\n",
        "s = np.sqrt(f*(1-f))\n",
        "\n",
        "b = 0.95\n",
        "a = (1 - b) / 2\n",
        "\n",
        "z = stats.norm.ppf(a)\n",
        "E = z*s/np.sqrt(n)\n",
        "IC = [f-E, f+E]\n",
        "print(IC)"
      ],
      "metadata": {
        "id": "t6u8bORG_p2U",
        "outputId": "69c8afee-7c98-4e59-f71a-4fe6b2dce079",
        "colab": {
          "base_uri": "https://localhost:8080/"
        }
      },
      "execution_count": null,
      "outputs": [
        {
          "output_type": "stream",
          "name": "stdout",
          "text": [
            "[0.7734640620689399, 0.7065359379310601]\n"
          ]
        }
      ]
    },
    {
      "cell_type": "code",
      "source": [
        "n = 660\n",
        "f = 0.74 # Estimativa para p\n",
        "\n",
        "# Otimista para binomial\n",
        "mu_s = f\n",
        "s2 = f * (1 - f) / n\n",
        "\n",
        "b = 0.95\n",
        "a = (1 - b) / 2\n",
        "\n",
        "q = stats.norm.ppf(a)\n",
        "\n",
        "IC = [f-q*np.sqrt(s2), f+q*np.sqrt(s2),]\n",
        "\n",
        "print(IC)"
      ],
      "metadata": {
        "id": "sHCSGIvg68dg",
        "outputId": "96a6a7ca-6e7f-46a4-8368-b9f8feab6027",
        "colab": {
          "base_uri": "https://localhost:8080/"
        }
      },
      "execution_count": null,
      "outputs": [
        {
          "output_type": "stream",
          "name": "stdout",
          "text": [
            "[0.7734640620689399, 0.7065359379310601]\n"
          ]
        }
      ]
    },
    {
      "cell_type": "markdown",
      "source": [
        "#### Questão 5"
      ],
      "metadata": {
        "id": "NLaT36oK7bvQ"
      }
    },
    {
      "cell_type": "code",
      "source": [
        "X = [4.7, 3, 4.1, 2.3, 3.1, 3.5, 3.1, 3.1, 2, 2.3]\n",
        "mu = np.mean(X)\n",
        "n = len(X)\n",
        "\n",
        "b = 0.95\n",
        "a = (1 - b) / 2\n",
        "\n",
        "z = stats.t.ppf(a, n-1)\n",
        "s2 = np.var(X) * (n/(n-1))\n",
        "E = z * np.sqrt(s2) / np.sqrt(n)\n",
        "\n",
        "IC = [mu-E, mu+E]\n",
        "print(IC)"
      ],
      "metadata": {
        "id": "GYWpvoWY7bAo",
        "outputId": "7c452f35-8273-4821-a5fa-ffb5bcbb0c30",
        "colab": {
          "base_uri": "https://localhost:8080/"
        }
      },
      "execution_count": null,
      "outputs": [
        {
          "output_type": "stream",
          "name": "stdout",
          "text": [
            "[3.7145070680814616, 2.5254929319185386]\n"
          ]
        }
      ]
    },
    {
      "cell_type": "code",
      "source": [
        "X = [4.7, 3, 4.1, 2.3, 3.1, 3.5, 3.1, 3.1, 2, 2.3]\n",
        "mu = np.mean(X)\n",
        "n = len(X)\n",
        "print(n)\n",
        "\n",
        "b = 0.95\n",
        "a = (1 - b) / 2\n",
        "\n",
        "z = stats.t.ppf(a, n-1)\n",
        "s2 = np.var(X) * (n/(n-1))\n",
        "E = z * np.sqrt(s2) / np.sqrt(n)\n",
        "\n",
        "IC = [mu-E, mu+E]\n",
        "print(IC)"
      ],
      "metadata": {
        "id": "oELIUyqYDTey",
        "outputId": "3976d737-17e4-4427-b249-95dae0de9a16",
        "colab": {
          "base_uri": "https://localhost:8080/"
        }
      },
      "execution_count": null,
      "outputs": [
        {
          "output_type": "stream",
          "name": "stdout",
          "text": [
            "10\n",
            "[3.7145070680814616, 2.5254929319185386]\n"
          ]
        }
      ]
    },
    {
      "cell_type": "markdown",
      "metadata": {
        "id": "CdcnU5iTygEz"
      },
      "source": [
        "## Simulado 05"
      ]
    },
    {
      "cell_type": "markdown",
      "metadata": {
        "id": "f_b5PhU8ygE2"
      },
      "source": [
        "#### Questão 1"
      ]
    },
    {
      "cell_type": "code",
      "execution_count": null,
      "metadata": {
        "id": "rfSK-Qc7ygE3",
        "outputId": "b01307a9-12eb-414a-8b01-b48f039dbc83"
      },
      "outputs": [
        {
          "data": {
            "text/html": [
              "<div>\n",
              "<style scoped>\n",
              "    .dataframe tbody tr th:only-of-type {\n",
              "        vertical-align: middle;\n",
              "    }\n",
              "\n",
              "    .dataframe tbody tr th {\n",
              "        vertical-align: top;\n",
              "    }\n",
              "\n",
              "    .dataframe thead th {\n",
              "        text-align: right;\n",
              "    }\n",
              "</style>\n",
              "<table border=\"1\" class=\"dataframe\">\n",
              "  <thead>\n",
              "    <tr style=\"text-align: right;\">\n",
              "      <th></th>\n",
              "      <th>x</th>\n",
              "    </tr>\n",
              "  </thead>\n",
              "  <tbody>\n",
              "    <tr>\n",
              "      <th>0</th>\n",
              "      <td>0.193460</td>\n",
              "    </tr>\n",
              "    <tr>\n",
              "      <th>1</th>\n",
              "      <td>0.850971</td>\n",
              "    </tr>\n",
              "    <tr>\n",
              "      <th>2</th>\n",
              "      <td>0.409289</td>\n",
              "    </tr>\n",
              "    <tr>\n",
              "      <th>3</th>\n",
              "      <td>-0.945363</td>\n",
              "    </tr>\n",
              "    <tr>\n",
              "      <th>4</th>\n",
              "      <td>0.517830</td>\n",
              "    </tr>\n",
              "  </tbody>\n",
              "</table>\n",
              "</div>"
            ],
            "text/plain": [
              "          x\n",
              "0  0.193460\n",
              "1  0.850971\n",
              "2  0.409289\n",
              "3 -0.945363\n",
              "4  0.517830"
            ]
          },
          "execution_count": 2,
          "metadata": {},
          "output_type": "execute_result"
        }
      ],
      "source": [
        "df = pd.read_csv('Simulado Q1.csv')\n",
        "df.head()"
      ]
    },
    {
      "cell_type": "code",
      "execution_count": null,
      "metadata": {
        "id": "AxCRjNDfygE4",
        "outputId": "61e401a7-90e9-470f-86ad-4c18bb343687"
      },
      "outputs": [
        {
          "data": {
            "image/png": "[encoded data removed]",
            "text/plain": [
              "<Figure size 640x480 with 1 Axes>"
            ]
          },
          "metadata": {},
          "output_type": "display_data"
        }
      ],
      "source": [
        "sns.histplot(data=df, x='x')\n",
        "plt.show()"
      ]
    },
    {
      "cell_type": "code",
      "execution_count": null,
      "metadata": {
        "id": "mq4E4i_3ygE4",
        "outputId": "671e4839-8bc6-4e1a-ce73-b379713773fe"
      },
      "outputs": [
        {
          "data": {
            "image/png": "[encoded data removed]",
            "text/plain": [
              "<Figure size 640x480 with 1 Axes>"
            ]
          },
          "metadata": {},
          "output_type": "display_data"
        }
      ],
      "source": [
        "sns.boxplot(data=df, x='x')\n",
        "plt.show()"
      ]
    },
    {
      "cell_type": "code",
      "execution_count": null,
      "metadata": {
        "id": "Vf7pMweFygE4",
        "outputId": "56be149a-895e-4fed-f3a0-e31aef6b3b64"
      },
      "outputs": [
        {
          "name": "stdout",
          "output_type": "stream",
          "text": [
            "1.7810120887164722\n"
          ]
        }
      ],
      "source": [
        "p1 = df['x'].quantile(0.25)\n",
        "p2 = df['x'].quantile(0.75)\n",
        "print(p2-p1)"
      ]
    },
    {
      "cell_type": "code",
      "execution_count": null,
      "metadata": {
        "id": "nky_FkGyygE5",
        "outputId": "46d4066a-0ca9-4c32-bbfe-3f6275db26f4"
      },
      "outputs": [
        {
          "name": "stdout",
          "output_type": "stream",
          "text": [
            "1.5177255636393752\n"
          ]
        }
      ],
      "source": [
        "m = np.mean(df['x'])\n",
        "print(m)"
      ]
    },
    {
      "cell_type": "markdown",
      "metadata": {
        "id": "ubA-lFGsygE6"
      },
      "source": [
        "#### Questão 2"
      ]
    },
    {
      "cell_type": "markdown",
      "metadata": {
        "id": "pna65UkiygE7"
      },
      "source": [
        "Máxima Verossimilhança, $\\overline{X} = mean(X) = sum(x_i)/N$\n",
        "\n",
        "$$\n",
        "\\theta e^{\\theta x}: \\theta_s = 1/\\overline{X}\n",
        "$$"
      ]
    },
    {
      "cell_type": "markdown",
      "metadata": {
        "id": "z6jVOTCCygE7"
      },
      "source": [
        "$$\n",
        "Poisson(\\lambda) = \\frac{e^{-\\lambda}\\lambda^x}{x!}: \\lambda_s = \\overline{X}\n",
        "$$"
      ]
    },
    {
      "cell_type": "markdown",
      "metadata": {
        "id": "VuNovIZoygE8"
      },
      "source": [
        "$$\n",
        "N(\\mu, \\sigma^2): \\mu_s = \\overline{X}\n",
        "$$"
      ]
    },
    {
      "cell_type": "markdown",
      "metadata": {
        "id": "j-0LacSjygE8"
      },
      "source": [
        "$$\n",
        "Binomial(n,p): p_s = \\overline{X}\n",
        "$$"
      ]
    },
    {
      "cell_type": "markdown",
      "metadata": {
        "id": "UrXcEL2RygE8"
      },
      "source": [
        "Estimador geral não enviesado:\n",
        "\n",
        "$$\n",
        "\\sigma^2_s = \\frac{n}{n-1} (E[X^2] - E[\\overline{X}^2]) = \\frac{n}{n-1} \\sigma^2_{amostral}\n",
        "$$"
      ]
    },
    {
      "cell_type": "code",
      "execution_count": null,
      "metadata": {
        "id": "F2rnp57mygE9",
        "outputId": "92acc21f-db51-4a6f-d1c8-9c172278d909"
      },
      "outputs": [
        {
          "name": "stdout",
          "output_type": "stream",
          "text": [
            "11.333333333333334\n"
          ]
        }
      ],
      "source": [
        "X = [14,4,8,10,15,15,11,18,6,14,8,11,10,14,12]\n",
        "l = np.mean(X)\n",
        "print(l)"
      ]
    },
    {
      "cell_type": "code",
      "execution_count": null,
      "metadata": {
        "id": "oyEX257AygE9",
        "outputId": "5822e27f-71b9-4e6e-d1cd-8bf71824a6b2"
      },
      "outputs": [
        {
          "name": "stdout",
          "output_type": "stream",
          "text": [
            "[13.057916048082578, 9.60875061858409]\n"
          ]
        }
      ],
      "source": [
        "n = 15\n",
        "\"\"\" \n",
        "  Para intervalo de 90% de confiança\n",
        "\n",
        "  1-a = 0.90  => a = 0.10  => a/2 = 0.05\n",
        "\n",
        "  Seja f a função desejada de aproximação ou da propria distribuição\n",
        "  z_{a/2} = percentPoint(f, -inf, a/2) = cumSum^{-1}(f, -inf, a/2)\n",
        "\n",
        "  otimista\n",
        "  E = z_{a/2} sigma / sqrt{n}\n",
        "\n",
        "  conservativa\n",
        "  E = z_{a/2} 1 / (2 sqrt{n})\n",
        "\"\"\"\n",
        "\n",
        "q = stats.t.ppf(0.05, n-1)\n",
        "s2 = np.var(X) * (n/(n-1))\n",
        "E = q * np.sqrt(s2) / np.sqrt(n)\n",
        "IC = [l-E, l+E]\n",
        "print(IC)"
      ]
    },
    {
      "cell_type": "markdown",
      "metadata": {
        "id": "COsDKwziygE-"
      },
      "source": [
        "#### Questão 3"
      ]
    },
    {
      "cell_type": "code",
      "execution_count": null,
      "metadata": {
        "id": "j11l7dqcygE-",
        "outputId": "fd6ff66d-bb31-425d-e31c-98a556cc3bfa"
      },
      "outputs": [
        {
          "name": "stdout",
          "output_type": "stream",
          "text": [
            "0.3977125031952966\n"
          ]
        }
      ],
      "source": [
        "n = 72\n",
        "l = 5\n",
        "s2 = l**2\n",
        "\n",
        "shiftLimit = (371 - n * l) / (np.sqrt(n * s2))\n",
        "\n",
        "p = 1 - stats.norm.cdf(shiftLimit)\n",
        "print(p)"
      ]
    },
    {
      "cell_type": "markdown",
      "metadata": {
        "id": "0scnB2PzygE-"
      },
      "source": [
        "#### Questão 4"
      ]
    },
    {
      "cell_type": "code",
      "execution_count": null,
      "metadata": {
        "id": "cArr6RvjygE_",
        "outputId": "10db033d-c82d-476f-c99d-c1f76f895c11"
      },
      "outputs": [
        {
          "name": "stdout",
          "output_type": "stream",
          "text": [
            "[0.9629155585220804, 0.7380190209171719]\n"
          ]
        }
      ],
      "source": [
        "n = 107\n",
        "boas = 91\n",
        "m = boas/n\n",
        "\n",
        "q = 1 / np.sqrt(4 * n)\n",
        "za = stats.norm.ppf(0.01)\n",
        "E = za * q\n",
        "\n",
        "IC = [m-E, m+E]\n",
        "print(IC)"
      ]
    },
    {
      "cell_type": "markdown",
      "metadata": {
        "id": "6z1mAi_xygFA"
      },
      "source": [
        "#### Questão 5"
      ]
    },
    {
      "cell_type": "code",
      "execution_count": null,
      "metadata": {
        "id": "kfmDddVlygFA",
        "outputId": "7681c054-f8c1-42a9-eb96-dec71a297da4"
      },
      "outputs": [
        {
          "name": "stdout",
          "output_type": "stream",
          "text": [
            "0.04978706836786395\n"
          ]
        }
      ],
      "source": [
        "l = 10\n",
        "p = 1 - stats.expon.cdf(l, scale=l)\n",
        "print(p ** 3)"
      ]
    },
    {
      "cell_type": "markdown",
      "metadata": {
        "id": "jLFZBzPRygFB"
      },
      "source": [
        "### Questão 6"
      ]
    },
    {
      "cell_type": "code",
      "execution_count": null,
      "metadata": {
        "id": "8JAHFtkWygFB",
        "outputId": "bea698cb-8706-4b6e-cd19-251bae3fae43"
      },
      "outputs": [
        {
          "name": "stdout",
          "output_type": "stream",
          "text": [
            "[58814.46636143725, 56809.53363856275]\n"
          ]
        }
      ],
      "source": [
        "s = 2500\n",
        "n = 22\n",
        "m = 57812\n",
        "a = 0.94\n",
        "a2 = (1 - a)/2\n",
        "\n",
        "z = stats.norm.ppf(a2)\n",
        "E = z * (s / np.sqrt(n))\n",
        "\n",
        "IC = [m - E, m + E]\n",
        "print(IC)\n"
      ]
    },
    {
      "cell_type": "markdown",
      "metadata": {
        "id": "KsrXUQRUygFB"
      },
      "source": [
        "## Lista 05"
      ]
    },
    {
      "cell_type": "markdown",
      "metadata": {
        "id": "pEPZ5jDKygFC"
      },
      "source": [
        "#### Questão 5"
      ]
    },
    {
      "cell_type": "code",
      "execution_count": null,
      "metadata": {
        "id": "rcsrbKGnygFC",
        "outputId": "8f482195-cbaa-482e-f66b-6409eea54ed1"
      },
      "outputs": [
        {
          "name": "stdout",
          "output_type": "stream",
          "text": [
            "0.0455002638963584\n"
          ]
        }
      ],
      "source": [
        "a = stats.norm.cdf(-2) + (1 - stats.norm.cdf(2))\n",
        "print(a)"
      ]
    },
    {
      "cell_type": "markdown",
      "metadata": {
        "id": "xEzq8OtLygFC"
      },
      "source": [
        "#### Questão 6"
      ]
    },
    {
      "cell_type": "code",
      "execution_count": null,
      "metadata": {
        "id": "RT64HvMnygFC",
        "outputId": "2f81b36f-adb0-4458-b439-2f59b6726029"
      },
      "outputs": [
        {
          "name": "stdout",
          "output_type": "stream",
          "text": [
            "0.15085496391539038 0.8437643724222779\n",
            "0.6929094085068874\n"
          ]
        }
      ],
      "source": [
        "n = 5\n",
        "limSup = 2 * (n-1)\n",
        "limLow = (n-1) / 2\n",
        "\n",
        "qLow = stats.chi2.cdf(limLow, n)\n",
        "qSup = stats.chi2.cdf(limSup, n)\n",
        "\n",
        "print(qLow, qSup)\n",
        "p = qSup - qLow\n",
        "print(p)\n"
      ]
    },
    {
      "cell_type": "code",
      "execution_count": null,
      "metadata": {
        "id": "Po4_0fWpygFD",
        "outputId": "31ff0487-9dd4-4362-c2af-527a1c59bc26"
      },
      "outputs": [
        {
          "name": "stdout",
          "output_type": "stream",
          "text": [
            "CHI2\n",
            "0.02364069482096414 0.9911444161438748\n",
            "0.9675037213229107\n",
            "NORM\n",
            "0.0484375375131373 0.99778673707104\n",
            "0.9493491995579028\n"
          ]
        }
      ],
      "source": [
        "# Aproximacao n 'grande' para normal partindo de Chi2\n",
        "# mu = n, s^2 = 2n\n",
        "\n",
        "n = 20\n",
        "limSup = 2 * (n-1)\n",
        "limLow = (n-1) / 2\n",
        "\n",
        "qLow = stats.chi2.cdf(limLow, n)\n",
        "qSup = stats.chi2.cdf(limSup, n)\n",
        "\n",
        "print(\"CHI2\")\n",
        "print(qLow, qSup)\n",
        "p = qSup - qLow\n",
        "print(p)\n",
        "\n",
        "s = np.sqrt(2*n)\n",
        "qLow = stats.norm.cdf(limLow, loc=n, scale=s)\n",
        "qSup = stats.norm.cdf(limSup, loc=n, scale=s)\n",
        "\n",
        "print(\"NORM\")\n",
        "print(qLow, qSup)\n",
        "p = qSup - qLow\n",
        "print(p)\n"
      ]
    },
    {
      "cell_type": "markdown",
      "metadata": {
        "id": "hkogY2SbygFD"
      },
      "source": [
        "#### QUestão 7"
      ]
    },
    {
      "cell_type": "code",
      "execution_count": null,
      "metadata": {
        "id": "G7_ZxaBOygFD",
        "outputId": "c8fe2e76-741d-4030-fce0-ac494c98bd59"
      },
      "outputs": [
        {
          "name": "stdout",
          "output_type": "stream",
          "text": [
            "0.24095934553585607\n"
          ]
        }
      ],
      "source": [
        "n = 10\n",
        "\n",
        "limLow = -0.1 * np.sqrt(n)\n",
        "limSup = 0.1 * np.sqrt(n)\n",
        "\n",
        "qLow = stats.t.cdf(limLow, n-1)\n",
        "qSup = stats.t.cdf(limSup, n-1)\n",
        "\n",
        "p = qSup - qLow\n",
        "print(p)"
      ]
    },
    {
      "cell_type": "code",
      "execution_count": null,
      "metadata": {
        "id": "4Fjb438QygFE",
        "outputId": "b1a12567-83f5-434b-ada2-24e05c3d2bfc"
      },
      "outputs": [
        {
          "name": "stdout",
          "output_type": "stream",
          "text": [
            "0.6228662211893632 0.37713377881063676\n"
          ]
        }
      ],
      "source": [
        "# Aproximacao para n 'grande' partindo de t de Student\n",
        "# mu = 0, s^2 = k/(k-1) = (n-1)/(n-3)\n",
        "\n",
        "n = 100\n",
        "\n",
        "s = np.sqrt((n-1)/(n-3))\n",
        "qLow = stats.norm.cdf(limLow, loc=0, scale=s)\n",
        "qSup = stats.norm.cdf(limSup, loc=0, scale=s)\n",
        "\n",
        "#create 95% confidence interval for population mean weight\n",
        "# stats.norm.interval(alpha=0.95, loc=0, scale=s)\n",
        "\n",
        "\n",
        "p = qSup - qLow\n",
        "print(qSup, qLow)"
      ]
    },
    {
      "cell_type": "markdown",
      "metadata": {
        "id": "25DEAyfPygFF"
      },
      "source": [
        "#### Questão 8"
      ]
    },
    {
      "cell_type": "code",
      "execution_count": null,
      "metadata": {
        "id": "rUDTfvcdygFF",
        "outputId": "a715b06b-50fd-4a84-e71a-f4e2fa08b5ce"
      },
      "outputs": [
        {
          "name": "stdout",
          "output_type": "stream",
          "text": [
            "[0.5309897516152281, 0.4690102483847719]\n"
          ]
        }
      ],
      "source": [
        "n = 1000\n",
        "f = 0.5 # Estimativa para p\n",
        "\n",
        "# Otimista para binomial\n",
        "mu_s = f\n",
        "s2 = f * (1 - f) / n\n",
        "\n",
        "b = 0.95\n",
        "a = (1 - b) / 2\n",
        "\n",
        "q = stats.norm.ppf(a)\n",
        "\n",
        "IC = [f-q*np.sqrt(s2), f+q*np.sqrt(s2),]\n",
        "\n",
        "print(IC)\n"
      ]
    },
    {
      "cell_type": "markdown",
      "metadata": {
        "id": "LmCwCsy6ygFF"
      },
      "source": [
        "#### Questão 9"
      ]
    },
    {
      "cell_type": "code",
      "execution_count": null,
      "metadata": {
        "id": "ngLYrBY3ygFG",
        "outputId": "d4efd66c-41d7-4a38-eee5-496ab32e84d8"
      },
      "outputs": [
        {
          "name": "stdout",
          "output_type": "stream",
          "text": [
            "0.4076276834679827\n",
            "0.08047100819967401\n"
          ]
        }
      ],
      "source": [
        "mu = 78.47\n",
        "s = 13.61\n",
        "\n",
        "a = 1 - stats.norm.cdf(81.65, loc=mu, scale=s)\n",
        "print(a)\n",
        "\n",
        "n = 36\n",
        "shift = (81.65 - mu) / (s/np.sqrt(n))\n",
        "b = 1 - stats.norm.cdf(shift)\n",
        "\n",
        "print(b)"
      ]
    },
    {
      "cell_type": "markdown",
      "metadata": {
        "id": "kYPDAMuSygFG"
      },
      "source": [
        "#### Questão 10"
      ]
    },
    {
      "cell_type": "code",
      "execution_count": null,
      "metadata": {
        "id": "vyfZ_YOpygFG",
        "outputId": "b3076157-ef3b-494b-c5ef-679bc42d1458"
      },
      "outputs": [
        {
          "name": "stdout",
          "output_type": "stream",
          "text": [
            "[172.9399459768101, 167.0600540231899]\n"
          ]
        }
      ],
      "source": [
        "n = 100\n",
        "mu = 170\n",
        "s = 15\n",
        "a = 0.05\n",
        "\n",
        "z = stats.norm.ppf(a/2)\n",
        "IC = [mu - z*s/np.sqrt(n), mu + z*s/np.sqrt(n)]\n",
        "print(IC)"
      ]
    },
    {
      "cell_type": "markdown",
      "metadata": {
        "id": "R4Z1Z983ygFH"
      },
      "source": [
        "#### Questão 11"
      ]
    },
    {
      "cell_type": "code",
      "execution_count": null,
      "metadata": {
        "id": "HlO6LfMHygFH",
        "outputId": "5a45a7ef-d094-4746-ba24-32726832be0f"
      },
      "outputs": [
        {
          "name": "stdout",
          "output_type": "stream",
          "text": [
            "4.745\n",
            "[5.663464434577779, 3.826535565422221]\n"
          ]
        }
      ],
      "source": [
        "xb = np.mean([2.9, 3.4, 3.5, 4.1, 4.6, 4.7, 4.5, 3.8, 5.3, 4.9, 4.8, 5.7, 5.8, 5.0, 3.4, 5.9, 6.3, 4.6, 5.5, 6.2])\n",
        "print(xb)\n",
        "\n",
        "n = 20\n",
        "s = 2\n",
        "a = 1-0.96\n",
        "z = stats.norm.ppf(a/2)\n",
        "IC = [xb - z * (s / np.sqrt(n)), xb + z * (s / np.sqrt(n))]\n",
        "print(IC)\n"
      ]
    }
  ],
  "metadata": {
    "kernelspec": {
      "display_name": "Python 3.10.6 64-bit",
      "language": "python",
      "name": "python3"
    },
    "language_info": {
      "codemirror_mode": {
        "name": "ipython",
        "version": 3
      },
      "file_extension": ".py",
      "mimetype": "text/x-python",
      "name": "python",
      "nbconvert_exporter": "python",
      "pygments_lexer": "ipython3",
      "version": "3.10.6"
    },
    "orig_nbformat": 4,
    "vscode": {
      "interpreter": {
        "hash": "916dbcbb3f70747c44a77c7bcd40155683ae19c65e1c03b4aa3499c5328201f1"
      }
    },
    "colab": {
      "provenance": [],
      "collapsed_sections": [
        "NLaT36oK7bvQ",
        "f_b5PhU8ygE2",
        "ubA-lFGsygE6",
        "COsDKwziygE-",
        "0scnB2PzygE-",
        "6z1mAi_xygFA",
        "pEPZ5jDKygFC",
        "xEzq8OtLygFC",
        "hkogY2SbygFD",
        "25DEAyfPygFF",
        "LmCwCsy6ygFF",
        "kYPDAMuSygFG",
        "R4Z1Z983ygFH"
      ]
    }
  },
  "nbformat": 4,
  "nbformat_minor": 0
}