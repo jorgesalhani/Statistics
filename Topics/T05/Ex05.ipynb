{
 "cells": [
  {
   "cell_type": "markdown",
   "metadata": {},
   "source": [
    "## Lista 05 - Estimação Pontual e Intervalo de Confiança"
   ]
  },
  {
   "cell_type": "markdown",
   "metadata": {},
   "source": [
    "## Simulado 05"
   ]
  },
  {
   "cell_type": "code",
   "execution_count": 24,
   "metadata": {},
   "outputs": [],
   "source": [
    "import matplotlib.pyplot as plt\n",
    "import numpy as np\n",
    "import pandas as pd\n",
    "from scipy import integrate, special, stats\n",
    "import seaborn as sns"
   ]
  },
  {
   "cell_type": "markdown",
   "metadata": {},
   "source": [
    "#### Questão 1"
   ]
  },
  {
   "cell_type": "code",
   "execution_count": 2,
   "metadata": {},
   "outputs": [
    {
     "data": {
      "text/html": [
       "<div>\n",
       "<style scoped>\n",
       "    .dataframe tbody tr th:only-of-type {\n",
       "        vertical-align: middle;\n",
       "    }\n",
       "\n",
       "    .dataframe tbody tr th {\n",
       "        vertical-align: top;\n",
       "    }\n",
       "\n",
       "    .dataframe thead th {\n",
       "        text-align: right;\n",
       "    }\n",
       "</style>\n",
       "<table border=\"1\" class=\"dataframe\">\n",
       "  <thead>\n",
       "    <tr style=\"text-align: right;\">\n",
       "      <th></th>\n",
       "      <th>x</th>\n",
       "    </tr>\n",
       "  </thead>\n",
       "  <tbody>\n",
       "    <tr>\n",
       "      <th>0</th>\n",
       "      <td>0.193460</td>\n",
       "    </tr>\n",
       "    <tr>\n",
       "      <th>1</th>\n",
       "      <td>0.850971</td>\n",
       "    </tr>\n",
       "    <tr>\n",
       "      <th>2</th>\n",
       "      <td>0.409289</td>\n",
       "    </tr>\n",
       "    <tr>\n",
       "      <th>3</th>\n",
       "      <td>-0.945363</td>\n",
       "    </tr>\n",
       "    <tr>\n",
       "      <th>4</th>\n",
       "      <td>0.517830</td>\n",
       "    </tr>\n",
       "  </tbody>\n",
       "</table>\n",
       "</div>"
      ],
      "text/plain": [
       "          x\n",
       "0  0.193460\n",
       "1  0.850971\n",
       "2  0.409289\n",
       "3 -0.945363\n",
       "4  0.517830"
      ]
     },
     "execution_count": 2,
     "metadata": {},
     "output_type": "execute_result"
    }
   ],
   "source": [
    "df = pd.read_csv('Simulado Q1.csv')\n",
    "df.head()"
   ]
  },
  {
   "cell_type": "code",
   "execution_count": 10,
   "metadata": {},
   "outputs": [
    {
     "data": {
      "image/png": "[encoded data removed]",
      "text/plain": [
       "<Figure size 640x480 with 1 Axes>"
      ]
     },
     "metadata": {},
     "output_type": "display_data"
    }
   ],
   "source": [
    "sns.histplot(data=df, x='x')\n",
    "plt.show()"
   ]
  },
  {
   "cell_type": "code",
   "execution_count": 11,
   "metadata": {},
   "outputs": [
    {
     "data": {
      "image/png": "[encoded data removed]",
      "text/plain": [
       "<Figure size 640x480 with 1 Axes>"
      ]
     },
     "metadata": {},
     "output_type": "display_data"
    }
   ],
   "source": [
    "sns.boxplot(data=df, x='x')\n",
    "plt.show()"
   ]
  },
  {
   "cell_type": "code",
   "execution_count": 22,
   "metadata": {},
   "outputs": [
    {
     "name": "stdout",
     "output_type": "stream",
     "text": [
      "1.7810120887164722\n"
     ]
    }
   ],
   "source": [
    "p1 = df['x'].quantile(0.25)\n",
    "p2 = df['x'].quantile(0.75)\n",
    "print(p2-p1)"
   ]
  },
  {
   "cell_type": "code",
   "execution_count": 14,
   "metadata": {},
   "outputs": [
    {
     "name": "stdout",
     "output_type": "stream",
     "text": [
      "1.5177255636393752\n"
     ]
    }
   ],
   "source": [
    "m = np.mean(df['x'])\n",
    "print(m)"
   ]
  },
  {
   "cell_type": "markdown",
   "metadata": {},
   "source": [
    "#### Questão 2"
   ]
  },
  {
   "cell_type": "markdown",
   "metadata": {},
   "source": [
    "Máxima Verossimilhança, $\\overline{X} = mean(X) = sum(x_i)/N$\n",
    "\n",
    "$$\n",
    "\\theta e^{\\theta x}: \\theta_s = 1/\\overline{X}\n",
    "$$"
   ]
  },
  {
   "cell_type": "markdown",
   "metadata": {},
   "source": [
    "$$\n",
    "Poisson(\\lambda) = \\frac{e^{-\\lambda}\\lambda^x}{x!}: \\lambda_s = \\overline{X}\n",
    "$$"
   ]
  },
  {
   "cell_type": "markdown",
   "metadata": {},
   "source": [
    "$$\n",
    "N(\\mu, \\sigma^2): \\mu_s = \\overline{X}\n",
    "$$"
   ]
  },
  {
   "cell_type": "markdown",
   "metadata": {},
   "source": [
    "$$\n",
    "Binomial(n,p): p_s = \\overline{X}\n",
    "$$"
   ]
  },
  {
   "cell_type": "markdown",
   "metadata": {},
   "source": [
    "Estimador geral não enviesado:\n",
    "\n",
    "$$\n",
    "\\sigma^2_s = \\frac{n}{n-1} (E[X^2] - E[\\overline{X}^2]) = \\frac{n}{n-1} \\sigma^2_{amostral}\n",
    "$$"
   ]
  },
  {
   "cell_type": "code",
   "execution_count": 23,
   "metadata": {},
   "outputs": [
    {
     "name": "stdout",
     "output_type": "stream",
     "text": [
      "11.333333333333334\n"
     ]
    }
   ],
   "source": [
    "X = [14,4,8,10,15,15,11,18,6,14,8,11,10,14,12]\n",
    "l = np.mean(X)\n",
    "print(l)"
   ]
  },
  {
   "cell_type": "code",
   "execution_count": 27,
   "metadata": {},
   "outputs": [
    {
     "name": "stdout",
     "output_type": "stream",
     "text": [
      "[13.057916048082578, 9.60875061858409]\n"
     ]
    }
   ],
   "source": [
    "n = 15\n",
    "\"\"\" \n",
    "  Para intervalo de 90% de confiança\n",
    "\n",
    "  1-a = 0.90  => a = 0.10  => a/2 = 0.05\n",
    "\n",
    "  Seja f a função desejada de aproximação ou da propria distribuição\n",
    "  z_{a/2} = percentPoint(f, -inf, a/2) = cumSum^{-1}(f, -inf, a/2)\n",
    "\n",
    "  otimista\n",
    "  E = z_{a/2} sigma / sqrt{n}\n",
    "\n",
    "  conservativa\n",
    "  E = z_{a/2} 1 / (2 sqrt{n})\n",
    "\"\"\"\n",
    "\n",
    "q = stats.t.ppf(0.05, n-1)\n",
    "s2 = np.var(X) * (n/(n-1))\n",
    "E = q * np.sqrt(s2) / np.sqrt(n)\n",
    "IC = [l-E, l+E]\n",
    "print(IC)"
   ]
  },
  {
   "cell_type": "markdown",
   "metadata": {},
   "source": [
    "#### Questão 3"
   ]
  },
  {
   "cell_type": "code",
   "execution_count": 32,
   "metadata": {},
   "outputs": [
    {
     "name": "stdout",
     "output_type": "stream",
     "text": [
      "0.3977125031952966\n"
     ]
    }
   ],
   "source": [
    "n = 72\n",
    "l = 5\n",
    "s2 = l**2\n",
    "\n",
    "shiftLimit = (371 - n * l) / (np.sqrt(n * s2))\n",
    "\n",
    "p = 1 - stats.norm.cdf(shiftLimit)\n",
    "print(p)"
   ]
  },
  {
   "cell_type": "markdown",
   "metadata": {},
   "source": [
    "#### Questão 4"
   ]
  },
  {
   "cell_type": "code",
   "execution_count": 39,
   "metadata": {},
   "outputs": [
    {
     "name": "stdout",
     "output_type": "stream",
     "text": [
      "[0.9629155585220804, 0.7380190209171719]\n"
     ]
    }
   ],
   "source": [
    "n = 107\n",
    "boas = 91\n",
    "m = boas/n\n",
    "\n",
    "q = 1 / np.sqrt(4 * n)\n",
    "za = stats.norm.ppf(0.01)\n",
    "E = za * q\n",
    "\n",
    "IC = [m-E, m+E]\n",
    "print(IC)"
   ]
  },
  {
   "cell_type": "markdown",
   "metadata": {},
   "source": [
    "#### Questão 5"
   ]
  },
  {
   "cell_type": "code",
   "execution_count": 42,
   "metadata": {},
   "outputs": [
    {
     "name": "stdout",
     "output_type": "stream",
     "text": [
      "0.04978706836786395\n"
     ]
    }
   ],
   "source": [
    "l = 10\n",
    "p = 1 - stats.expon.cdf(l, scale=l)\n",
    "print(p ** 3)"
   ]
  },
  {
   "cell_type": "markdown",
   "metadata": {},
   "source": [
    "### Questão 6"
   ]
  },
  {
   "cell_type": "code",
   "execution_count": 43,
   "metadata": {},
   "outputs": [
    {
     "name": "stdout",
     "output_type": "stream",
     "text": [
      "[58814.46636143725, 56809.53363856275]\n"
     ]
    }
   ],
   "source": [
    "s = 2500\n",
    "n = 22\n",
    "m = 57812\n",
    "a = 0.94\n",
    "a2 = (1 - a)/2\n",
    "\n",
    "z = stats.norm.ppf(a2)\n",
    "E = z * (s / np.sqrt(n))\n",
    "\n",
    "IC = [m - E, m + E]\n",
    "print(IC)\n"
   ]
  },
  {
   "cell_type": "markdown",
   "metadata": {},
   "source": [
    "## Lista 05"
   ]
  },
  {
   "cell_type": "markdown",
   "metadata": {},
   "source": []
  }
 ],
 "metadata": {
  "kernelspec": {
   "display_name": "Python 3.10.6 64-bit",
   "language": "python",
   "name": "python3"
  },
  "language_info": {
   "codemirror_mode": {
    "name": "ipython",
    "version": 3
   },
   "file_extension": ".py",
   "mimetype": "text/x-python",
   "name": "python",
   "nbconvert_exporter": "python",
   "pygments_lexer": "ipython3",
   "version": "3.10.6"
  },
  "orig_nbformat": 4,
  "vscode": {
   "interpreter": {
    "hash": "916dbcbb3f70747c44a77c7bcd40155683ae19c65e1c03b4aa3499c5328201f1"
   }
  }
 },
 "nbformat": 4,
 "nbformat_minor": 2
}
